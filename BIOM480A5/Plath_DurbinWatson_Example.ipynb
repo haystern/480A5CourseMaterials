{
 "cells": [
  {
   "cell_type": "markdown",
   "metadata": {},
   "source": [
    "# The Durbin-Watson Statistical Test #\n",
    "### The Durbin-Watson test is used to assess if there is autocorrelation among the residuals (errors) in a regression model’s output. Autocorrelation represents the degree of similarity between a signal and a delayed version of itself. DW values range from 0 - 4, which 2 meaning no autocorrelation. A DW value below 2 indicates that there is positive autocorrelation. A DW value above 2 indicates that there is negative autocorrelation. These terms will be explained by Figure 2, below.\n",
    "![Alt text](PlathDurbinWatsonMath.png)\n",
    "##### Figure 1. The equation for the Durbin-Watson test statistic in a readable equation from MATLAB Help Center (Mathworks, 2025).\n",
    "![Alt text](PlathAutocorrelation.png)\n",
    "##### Figure 2. Visual representation of simulated data with autocorrelated errors (Towards Data Science, 2025).\n",
    "### The figure above demonstrates the difference between positive and negative autocorrelation. Positive autocorrelation is present when the error of a sign is mostly followed by an error of the same sign. In this example, you can see that a majority of the positive points are followed by more positive points. Negative autocorrelation is present when the error of a specific sign is mostly followed by an error of the opposite sign. In this example, you can see that each point alternates between positive and negative errors. \n",
    "\n",
    "\n",
    "### The Durbin-Watson test is commonly used in econometrics to determine if there is a momentum factor that impacts a specific stock that someone is looking at. The test could be used to analyze the relationship between stock returns and different factors like interest rates and inflation effects. If the Durbin-Watson test returned positive autocorrelation (0 < DW < 2), it would suggest that momentum may exist in that specific stock because the past stock returns influence future stock returns. Knowing this information, they could use momentum-based trading skills which rely on buying rising stocks and selling falling stocks. If the Durbin-Watson test returned negative autocorrelation (2 < DW < 4), it would suggest that stocks vary between rising and falling by the day. Typically, this would lead to mean-reversion strategies which rely on underperforming stocks to rise. If the Durbin-Watson test returned no autocorrelation (DW = 2), it would suggest that the stock rises and falls somewhat unpredictable and a more advanced tactic/test would have to be used to predict patterns of that stock."
   ]
  },
  {
   "cell_type": "code",
   "execution_count": null,
   "metadata": {
    "vscode": {
     "languageId": "plaintext"
    }
   },
   "outputs": [],
   "source": [
    "import numpy as np\n",
    "# Generate random residuals (mean = 0, standard deviation = 0.5, 10 samples)\n",
    "np.random.seed(42)  # For reproducibility\n",
    "residuals = np.random.normal(loc=0, scale=0.5, size=10)\n",
    "\n",
    "\n",
    "n_params = 2  # Assume 1 predictor + intercept\n",
    "\n",
    "\n",
    "import statsmodels.api as sm\n",
    "from scipy.stats import chi2\n",
    "import numpy as np\n",
    "\n",
    "\n",
    "def durbin_watson_test(residuals, n_params):\n",
    "   \"\"\"\n",
    "   Calculates the Durbin-Watson statistic and its p-value.\n",
    "\n",
    "\n",
    "   Args:\n",
    "       residuals (array-like): Residuals from a regression model.\n",
    "       n_params (int): Number of parameters in the regression model, including the intercept.\n",
    "\n",
    "\n",
    "   Returns:\n",
    "       tuple: (Durbin-Watson statistic, p-value)\n",
    "\n",
    "\n",
    "   # Example Usage:\n",
    "   residuals = [0.5, -0.2, 0.1, -0.3, 0.4]  # Example residuals\n",
    "   n_params = 2  # Assume 1 predictor + intercept\n",
    "   dw_stat, p_val = durbin_watson_test(residuals, n_params)\n",
    "   print(f\"Durbin-Watson statistic: {dw_stat:.4f}\")\n",
    "   print(f\"Approximate p-value: {p_val:.4f}\")\n",
    "   Durbin-Watson statistic: 2.3000\n",
    "   Approximate p-value: 0.2345\n",
    "\n",
    "\n",
    "   Notes:\n",
    "   - The Durbin-Watson statistic tests for autocorrelation in regression residuals.\n",
    "   - A statistic near 2 suggests no autocorrelation.\n",
    "   - Values closer to 0 suggest positive autocorrelation.\n",
    "   - Values closer to 4 suggest negative autocorrelation.\n",
    "   - The p-value is calculated using the chi-squared distribution, which give an approximation.\n",
    "   - More accurate p-values can be obtained using a specific Durbin-Watson table.\n",
    "   \"\"\"\n",
    "   # Compute Durbin-Watson statistic\n",
    "   dw = sm.stats.durbin_watson(residuals)\n",
    "   n = len(residuals)\n",
    "\n",
    "\n",
    "   # Approximate p-value using the chi-squared distribution\n",
    "   if dw <= 2:\n",
    "       p_value = chi2.cdf(n * (2 - dw) / 2, n_params - 1)\n",
    "   else:\n",
    "       p_value = chi2.cdf(n * (dw - 2) / 2, n_params - 1)\n",
    "  \n",
    "   return dw, p_value\n",
    "\n",
    "\n",
    "# Perform Durbin-Watson test\n",
    "dw_stat, p_val = durbin_watson_test(residuals, n_params)\n",
    "\n",
    "\n",
    "# Display results\n",
    "print(f\"Residuals: {residuals}\")\n",
    "print(f\"Durbin-Watson statistic: {dw_stat:.4f}\")\n",
    "print(f\"Approximate p-value: {p_val:.4f}\")"
   ]
  }
 ],
 "metadata": {
  "language_info": {
   "name": "python"
  }
 },
 "nbformat": 4,
 "nbformat_minor": 2
}
