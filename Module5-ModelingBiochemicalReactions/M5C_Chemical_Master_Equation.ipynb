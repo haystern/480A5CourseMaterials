{
  "cells": [
    {
      "cell_type": "markdown",
      "metadata": {
        "id": "XU8bruLD1bLn"
      },
      "source": [
        "<html>\n",
        "    <summary></summary>\n",
        "         <div> <p></p> </div>\n",
        "         <div style=\"font-size: 20px; width: 800px;\"> \n",
        "              <h1>\n",
        "               <left>Modeling Biological Processes - Chemical Master Equations</left>\n",
        "              </h1>\n",
        "              <p><left>============================================================================</left> </p>\n",
        "<pre>Course: BIOM 480A5, Spring 2025\n",
        "Instructor: Brian Munsky\n",
        "Authors: Dr. Michael May, Brian Munsky\n",
        "Contact Info: munsky@colostate.edu\n",
        "</pre>\n",
        "         </div>\n",
        "    </p>\n",
        "\n",
        "</html>\n",
        "\n",
        "<details>\n",
        "  <summary>Copyright info</summary>\n",
        "\n",
        "```\n",
        "Copyright 2024 Brian Munsky\n",
        "\n",
        "Redistribution and use in source and binary forms, with or without modification, are permitted provided that the following conditions are met:\n",
        "\n",
        "1. Redistributions of source code must retain the above copyright notice, this list of conditions and the following disclaimer.\n",
        "\n",
        "2. Redistributions in binary form must reproduce the above copyright notice, this list of conditions and the following disclaimer in the documentation and/or other materials provided with the distribution.\n",
        "\n",
        "3. Neither the name of the copyright holder nor the names of its contributors may be used to endorse or promote products derived from this software without specific prior written permission.\n",
        "\n",
        "THIS SOFTWARE IS PROVIDED BY THE COPYRIGHT HOLDERS AND CONTRIBUTORS \"AS IS\" AND ANY EXPRESS OR IMPLIED WARRANTIES, INCLUDING, BUT NOT LIMITED TO, THE IMPLIED WARRANTIES OF MERCHANTABILITY AND FITNESS FOR A PARTICULAR PURPOSE ARE DISCLAIMED. IN NO EVENT SHALL THE COPYRIGHT HOLDER OR CONTRIBUTORS BE LIABLE FOR ANY DIRECT, INDIRECT, INCIDENTAL, SPECIAL, EXEMPLARY, OR CONSEQUENTIAL DAMAGES (INCLUDING, BUT NOT LIMITED TO, PROCUREMENT OF SUBSTITUTE GOODS OR SERVICES; LOSS OF USE, DATA, OR PROFITS; OR BUSINESS INTERRUPTION) HOWEVER CAUSED AND ON ANY THEORY OF LIABILITY, WHETHER IN CONTRACT, STRICT LIABILITY, OR TORT (INCLUDING NEGLIGENCE OR OTHERWISE) ARISING IN ANY WAY OUT OF THE USE OF THIS SOFTWARE, EVEN IF ADVISED OF THE POSSIBILITY OF SUCH DAMAGE.\n",
        "```\n",
        "<details>\n",
        "\n"
      ]
    },
    {
      "cell_type": "markdown",
      "metadata": {},
      "source": [
        "----------\n",
        "# Learning Objectives for this Notebook:\n",
        "--------------\n",
        "\n",
        "After completing this notebook, you should be able to:\n",
        "* Define the Chemical Master Equation and its components.\n",
        "* Define, and be able to construct the state space for a CME analysis.\n",
        "* Build a CME Infinitesimal Generator matrix using knowledge of stoichiometry vectors and propensity functions.\n",
        "* Recognise import properties of the Infinitesimal Generator.\n",
        "* Set up and solve the CME using Finite State Projections (FSP).\n",
        "* Make plots and animations of CME solutions."
      ]
    },
    {
      "cell_type": "markdown",
      "metadata": {},
      "source": [
        "# 1. Motivation for Computing Single-Cell distributions\n",
        "![alt text](Figures/ChemicalMasterEquation_2022/Slide2.png)\n",
        "![alt text](Figures/ChemicalMasterEquation_2022/Slide3.png)"
      ]
    },
    {
      "cell_type": "markdown",
      "metadata": {},
      "source": [
        "# 2. The Markov Chain Representation for Chemical Kinetics\n",
        "![alt text](Figures/ChemicalMasterEquation_2022/Slide6.png)\n",
        "![alt text](Figures/ChemicalMasterEquation_2022/Slide7.png)\n",
        "![alt text](Figures/ChemicalMasterEquation_2022/Slide8.png)"
      ]
    },
    {
      "cell_type": "markdown",
      "metadata": {},
      "source": [
        "# 3. The Chemical Master Equation\n",
        "\n",
        "![alt text](Figures/ChemicalMasterEquation_2022/Slide9.png)\n",
        "![alt text](Figures/ChemicalMasterEquation_2022/Slide11.png)\n"
      ]
    },
    {
      "cell_type": "markdown",
      "metadata": {},
      "source": [
        "# 4. The Infitesimal Generator Matrix\n",
        "![alt text](Figures/ChemicalMasterEquation_2022/Slide13.png)\n",
        "![alt text](Figures/ChemicalMasterEquation_2022/Slide15.png)\n",
        "![alt text](Figures/ChemicalMasterEquation_2022/Slide16.png)"
      ]
    },
    {
      "cell_type": "markdown",
      "metadata": {},
      "source": [
        "# 5. The Finite State Projection Approximation\n",
        "![alt text](Figures/ChemicalMasterEquation_2022/Slide17.png)\n",
        "![alt text](Figures/ChemicalMasterEquation_2022/Slide18.png)\n",
        "![alt text](Figures/ChemicalMasterEquation_2022/Slide19.png)\n",
        "![alt text](Figures/ChemicalMasterEquation_2022/Slide20.png)\n",
        "![alt text](Figures/ChemicalMasterEquation_2022/Slide21.png)\n",
        "![alt text](Figures/ChemicalMasterEquation_2022/Slide22.png)"
      ]
    },
    {
      "cell_type": "markdown",
      "metadata": {},
      "source": [
        "# 6. Python Codes\n",
        "## 6.1. Import Libraries\n",
        "```python"
      ]
    },
    {
      "cell_type": "code",
      "execution_count": null,
      "metadata": {
        "colab": {
          "background_save": true,
          "base_uri": "https://localhost:8080/"
        },
        "id": "rpL8hNLxODqc",
        "outputId": "31b98061-1e51-4777-d7f6-73e5dcba84db"
      },
      "outputs": [],
      "source": [
        "# Load necessary packages and libraries\n",
        "import matplotlib.pyplot as plt\n",
        "import numpy as np\n",
        "import scipy\n",
        "from IPython.display import Image\n",
        "import matplotlib.animation as animation\n",
        "from matplotlib import rc\n",
        "from scipy.integrate import ode\n",
        "\n",
        "rc('animation', html='jshtml')\n",
        "figSize=600"
      ]
    },
    {
      "cell_type": "markdown",
      "metadata": {},
      "source": [
        "## 6.2. Construct the Infinitesimal Generator\n",
        "\n",
        "Assuming that one has a defined model (in terms of stoichiometry matrix and propensit functions), then the main new concept needed to solve the CME using the FSP approach is to generate athe infitesimal generator matrix.  Below is a simple code to achieve this task."
      ]
    },
    {
      "cell_type": "code",
      "execution_count": null,
      "metadata": {},
      "outputs": [],
      "source": [
        "# Here, I provide a function to build the infinitesimal generator matrix for a continuous time Markov chain.\n",
        "# The function takes the stoichiometry matrix S, the propensity vector function W, the states in the FSP approximation, and the time t as input.\n",
        "# The function returns the infinitesimal generator matrix.\n",
        "\n",
        "def build_inf_gen(S, W, states, pars, t=0):\n",
        "    \"\"\" Build the infinitesimal generator matrix for a continuous time Markov chain.\n",
        "    S: Stoichiometry matrix\n",
        "    W: Propensity vector function\n",
        "    states: list of states in FSP approximation\n",
        "    t: time\n",
        "    \"\"\"\n",
        "    \n",
        "    # Determie the number of species, states and reactions\n",
        "    nSpecies, nStates = states.shape\n",
        "    nReactions = S.shape[1]\n",
        "    \n",
        "    # Compute the propensity functions for all states.\n",
        "    propensities = W(states, t, pars)\n",
        "\n",
        "    # Step through each reaction\n",
        "    infGens = []\n",
        "    infGen = np.zeros((nStates+1,nStates+1))\n",
        "    sink = np.zeros(nStates)\n",
        "    for mu in range(nReactions):\n",
        "        # Compute flow of probability out of all states due to reaction mu\n",
        "        infGens.append(-np.diag(propensities[mu,:]))\n",
        "        \n",
        "        for i in range(nStates):\n",
        "            # Compute the states after the reaction mu\n",
        "            newState = (states[:,i] + S[:,mu]).reshape(-1,1) \n",
        "\n",
        "            # Check if the state is non-negative\n",
        "            if np.all(newState >= 0):\n",
        "                # Find the index of the state\n",
        "                try:\n",
        "                    j = np.where((states == newState).all(axis=0))[0][0]\n",
        "                    infGens[mu][j,i] += propensities[mu,i]\n",
        "\n",
        "                except:\n",
        "                    sink[i] += propensities[mu,i]\n",
        "        # Add the current reaction to the infinitesimal generator\n",
        "        infGen[:nStates,:nStates] += infGens[mu]\n",
        "    \n",
        "    # Add the sink as the final row of the infinitesimal generator\n",
        "    infGen[nStates,:nStates] = sink\n",
        "\n",
        "    return infGens, sink, infGen"
      ]
    },
    {
      "cell_type": "markdown",
      "metadata": {},
      "source": [
        "# 7 Examples\n",
        "## 7.1. Bursting Gene Expression"
      ]
    },
    {
      "cell_type": "markdown",
      "metadata": {},
      "source": [
        "![alt text](Figures/StoichiometryAndPropensity_2023/Slide29.png)"
      ]
    },
    {
      "cell_type": "markdown",
      "metadata": {},
      "source": [
        "### (Steps 1-4) Define Stoichiomety Matrix And Propensity Functions"
      ]
    },
    {
      "cell_type": "code",
      "execution_count": null,
      "metadata": {},
      "outputs": [],
      "source": [
        "# Note - This code is copied exactly from the previous Module M5A.  We are going to use the same steps as\n",
        "# before to define the model.  The only difference is that we are going to use the Gillespie algorithm to\n",
        "# simulate the model instead of the ODE solver.\n",
        "\n",
        "# Step 1: The number of species is 3:  'OFF', 'ON', 'Protein'\n",
        "#         The initial conditions are:  x0 = [1, 0, 0]\n",
        "#         The initial condition corresponds to 1 molecule of 'OFF' and 0 molecules of 'ON' and 'Protein'\n",
        "#         The initial condition is defined as a 3 x 1 numpy array:\n",
        "x0 = np.array([1, 0, 0])\n",
        "\n",
        "# Step 2: The number of reactions is 4:\n",
        "#         R1:  OFF -> ON\n",
        "#         R2:  ON -> OFF\n",
        "#         R3:  ON -> ON + Protein\n",
        "#         R4:  Protein -> null\n",
        "\n",
        "# Step 3: The stoichiometry matrix is a 3 x 4 matrix:\n",
        "#         Rows correspond to species and columns correspond to reactions.\n",
        "#         The matrix is defined as follows:\n",
        "S = np.array([[-1, 1, 0, 0],\n",
        "        [1, -1, 0, 0],\n",
        "        [0, 0, 1, -1]])\n",
        "\n",
        "# Step 4: Define the reaction rate parameters as a dictionary\n",
        "pars = {'kon': 0.02, 'koff': 0.05, 'kP': 10, 'gam': 0.1}\n",
        "def W(x,t,pars=pars):\n",
        "  return np.array([pars['kon']*x[0],\n",
        "                   pars['koff']*x[1],\n",
        "                   pars['kP']*x[1],\n",
        "                   pars['gam']*x[2]])\n"
      ]
    },
    {
      "cell_type": "markdown",
      "metadata": {},
      "source": [
        "### Step 5 - Specify State Space"
      ]
    },
    {
      "cell_type": "code",
      "execution_count": null,
      "metadata": {},
      "outputs": [],
      "source": [
        "# Specify the State Space of the FSP projection.\n",
        "maxProtein = 180\n",
        "states = np.zeros((3, maxProtein*2+2))\n",
        "for i in range(maxProtein+1):\n",
        "    states[:,2*i:2*i+2] = [[1,0], [0,1], [i,i]]"
      ]
    },
    {
      "cell_type": "markdown",
      "metadata": {},
      "source": [
        "### Step 6 - Build Infinitesimal Generator Matrix."
      ]
    },
    {
      "cell_type": "code",
      "execution_count": null,
      "metadata": {},
      "outputs": [],
      "source": [
        "# Compute the Infinitesimal generators:\n",
        "infGens, sink, infGenTotal = build_inf_gen(S, W, states, pars)"
      ]
    },
    {
      "cell_type": "code",
      "execution_count": null,
      "metadata": {},
      "outputs": [],
      "source": [
        "#Show that probability is conserved by checking the column sum of the infinitesimal generator is zero.\n",
        "\n",
        "# Perform the column sum of 'infGenTotal'\n",
        "print('Maximum absolute column sum of the Infinitesimal Generator Matrix: ',\n",
        "       np.max(np.abs(np.sum(infGenTotal, axis=0))))"
      ]
    },
    {
      "cell_type": "markdown",
      "metadata": {},
      "source": [
        "### Step 7 - Specify the Initial Probability Distribution"
      ]
    },
    {
      "cell_type": "code",
      "execution_count": null,
      "metadata": {},
      "outputs": [],
      "source": [
        "# Here is a convenient code to find which index corresponds to the initial state:\n",
        "\n",
        "# Find which state corresponds to the initial condition\n",
        "idx0 = np.where([(states[:,i]==x0).all() for i in range(states.shape[1])])\n",
        "\n",
        "# Initialize the initial probability vector\n",
        "P0 = np.zeros(infGenTotal.shape[1])\n",
        "\n",
        "# Set the probability of the initial state to 1\n",
        "P0[idx0] = 1\n"
      ]
    },
    {
      "cell_type": "markdown",
      "metadata": {},
      "source": [
        "### Step 8 - Solve the FSP"
      ]
    },
    {
      "cell_type": "code",
      "execution_count": null,
      "metadata": {},
      "outputs": [],
      "source": [
        "# Define the time span for the simulation\n",
        "tspan = np.linspace(0, 2000, 100)\n",
        "\n",
        "def FSPrhs(t, P):\n",
        "    return infGenTotal @ P\n",
        "\n",
        "def jac(t, P):\n",
        "    return infGenTotal"
      ]
    },
    {
      "cell_type": "code",
      "execution_count": null,
      "metadata": {},
      "outputs": [],
      "source": [
        "# Define the ODE solver\n",
        "solver = ode(FSPrhs, jac=jac)\n",
        "solver.set_integrator('vode', method='bdf')\n",
        "solver.set_initial_value(P0)\n",
        "\n",
        "# Solve the ODE\n",
        "P_approach1 = np.zeros((len(tspan), len(P0)))\n",
        "P_approach1[0,:] = P0\n",
        "for i in range(1, len(tspan)):\n",
        "    P_approach1[i,:] = solver.integrate(tspan[i])\n"
      ]
    },
    {
      "cell_type": "code",
      "execution_count": null,
      "metadata": {},
      "outputs": [],
      "source": [
        "# Plot the results\n",
        "plt.figure(figsize=(4,4))\n",
        "plt.plot(tspan, P_approach1[:,-1])\n",
        "\n",
        "plt.figure(figsize=(4,4))\n",
        "pProtein = P_approach1[:,:-1:2]+P_approach1[:,1:-1:2]\n",
        "plt.plot(pProtein[-1,:])"
      ]
    },
    {
      "cell_type": "markdown",
      "metadata": {
        "id": "l1bkaZCd0ONp"
      },
      "source": [
        "Solve again using the matrix exponential approach.\n",
        "The solution of $P(x,t+\\Delta t)$ is given by\n",
        "\n",
        "$P(x,t+\\Delta t)=EXPM(A\\Delta t)\\cdot P(t)$"
      ]
    },
    {
      "cell_type": "code",
      "execution_count": null,
      "metadata": {
        "colab": {
          "background_save": true
        },
        "id": "wjkYmoCB0CSV"
      },
      "outputs": [],
      "source": [
        "deltaT = tspan[1]-tspan[0]\n",
        "expmAt = scipy.linalg.expm(infGenTotal*deltaT)\n",
        "\n",
        "# Solve the ODE\n",
        "P_approach2 = np.zeros((len(tspan), len(P0)))\n",
        "P_approach2[0,:] = P0\n",
        "for i in range(1, len(tspan)):\n",
        "    P_approach2[i,:] = expmAt @ P_approach2[i-1,:]\n"
      ]
    },
    {
      "cell_type": "code",
      "execution_count": null,
      "metadata": {
        "colab": {
          "background_save": true
        },
        "id": "8qbHxC31PD6L"
      },
      "outputs": [],
      "source": [
        "# Plot the results\n",
        "plt.figure(figsize=(4,4))\n",
        "plt.plot(tspan, P_approach1[:,-1])\n",
        "plt.plot(tspan, P_approach2[:,-1],'--')\n",
        "# labels\n",
        "plt.xlabel('Time')\n",
        "plt.ylabel('Escape Probability')\n",
        "plt.legend(['ODE Solver', 'Matrix Exponential'])\n",
        "\n",
        "plt.figure(figsize=(4,4))\n",
        "pProtein1 = P_approach1[:,:-1:2]+P_approach1[:,1:-1:2]\n",
        "pProtein2 = P_approach2[:,:-1:2]+P_approach2[:,1:-1:2]\n",
        "plt.plot(pProtein[-1,:])\n",
        "plt.plot(pProtein1[-1,:],'--')\n",
        "plt.xlabel('Protein Level')\n",
        "plt.ylabel('Probability')\n",
        "plt.legend(['ODE Solver', 'Matrix Exponential'])"
      ]
    },
    {
      "cell_type": "markdown",
      "metadata": {
        "id": "rSHJUeOPGvWL"
      },
      "source": [
        "**Compare the FSP Solution to the SSA solution.**"
      ]
    },
    {
      "cell_type": "code",
      "execution_count": null,
      "metadata": {},
      "outputs": [],
      "source": [
        "# Here is our Gillespie algorithm from Module M5B (slightly simplified)\n",
        "\n",
        "def gillespie(x0, t0, tmax, S, pars, trajectoryTimes = None):\n",
        "    # If the user did not provide specific time points, we will use the default\n",
        "    if trajectoryTimes is None:\n",
        "        trajectoryTimes = np.linspace(t0, tmax, 20)\n",
        "    \n",
        "    # Initialize the time and the state\n",
        "    t = t0\n",
        "    x = x0\n",
        "     \n",
        "    # Initialize the output\n",
        "    states = np.zeros((len(trajectoryTimes), len(x0)))\n",
        "\n",
        "    # next time index\n",
        "    nextTimeIndex = 0\n",
        "\n",
        "    # Run the simulation\n",
        "    while t < tmax:\n",
        "\n",
        "        Wx = W(x, t, pars)\n",
        "        Wx_sum = np.sum(Wx)\n",
        "\n",
        "        # Compute the time of the next reaction\n",
        "        t += -np.log(np.random.rand()) / Wx_sum\n",
        "\n",
        "        # Check to see if we need to save the state\n",
        "        while t >= trajectoryTimes[nextTimeIndex]:\n",
        "            states[nextTimeIndex] = x\n",
        "            nextTimeIndex += 1\n",
        "            if nextTimeIndex >= len(trajectoryTimes):\n",
        "                return states\n",
        "        \n",
        "        # Find the index of the next reaction\n",
        "        r = np.random.rand()\n",
        "        i = 0\n",
        "        W_sum = Wx[0]\n",
        "        while W_sum / Wx_sum < r:\n",
        "            i += 1\n",
        "            W_sum += Wx[i]\n",
        "\n",
        "        # Update the state\n",
        "        x = x + S[:, i]\n",
        "\n",
        "def nGillespies(x0, t0, tmax, S, pars, nTrajectories, trajectoryTimes = None):\n",
        "    if trajectoryTimes is None:\n",
        "        trajectoryTimes = np.linspace(t0, tmax, 20)\n",
        "    \n",
        "    # Initialize the output\n",
        "    states = np.zeros((nTrajectories, len(trajectoryTimes), len(x0)))\n",
        "\n",
        "    # Run the simulation\n",
        "    for i in range(nTrajectories):\n",
        "        states[i,:,:] = gillespie(x0, t0, tmax, S, pars, trajectoryTimes)\n",
        "    \n",
        "    return states"
      ]
    },
    {
      "cell_type": "code",
      "execution_count": null,
      "metadata": {
        "colab": {
          "background_save": true
        },
        "id": "UWojH1ReGuk5"
      },
      "outputs": [],
      "source": [
        "# Run the Gillespie algorithm\n",
        "nTrajectories = 100\n",
        "SSAsolns = nGillespies(x0, 0, np.max(tspan), S, pars, nTrajectories, tspan)"
      ]
    },
    {
      "cell_type": "code",
      "execution_count": null,
      "metadata": {},
      "outputs": [],
      "source": [
        "# Plot a histogram of the results at the final time.\n",
        "\n",
        "proteinCounts = SSAsolns[:,-1,2]\n",
        "plt.hist(proteinCounts, bins=range(0, maxProtein+1), density=True)\n",
        "plt.plot(pProtein[-1,:], alpha=0.5)\n",
        "\n",
        "plt.xlabel('Protein Level')\n",
        "plt.ylabel('Probability')\n",
        "plt.legend(['FSP', 'Gillespie'])"
      ]
    },
    {
      "cell_type": "markdown",
      "metadata": {},
      "source": [
        "***Explore the eigenvalues and eigenvectors of the Infinitesimal Generator Matrix.***\n",
        "\n",
        "For any CME model, there will be at least one eigenvalue equal to zero, and the rest will have negative real parts, meaning that they will decay to zero over time.  The zero-eigenvalue corresponds to the steady state distribution (can you see why?).  Hint -- remember that for any eigenvalue, v, for matrix A, we have $A\n",
        "\\cdot v = \\lambda*v$."
      ]
    },
    {
      "cell_type": "code",
      "execution_count": null,
      "metadata": {},
      "outputs": [],
      "source": [
        "# Replace the absrbing sink with a reflecting boundary.\n",
        "infGenReflect = infGenTotal.copy()\n",
        "infGenReflect = infGenReflect[:-1,:-1]\n",
        "infGenReflect = infGenReflect - np.diag(np.sum(infGenReflect, axis=0))\n",
        "\n",
        "# Compute the eigenvalues and eigenvectors of the new infinitesimal generator\n",
        "eigenvalues, eigenvectors = np.linalg.eig(infGenReflect)\n",
        "\n",
        "# Plot the real and imaginary parts of the eigenvalues\n",
        "fig, ax = plt.subplots(1,2, figsize=(8,4))\n",
        "ax[0].plot(np.real(eigenvalues), np.imag(eigenvalues), 'o')\n",
        "ax[0].set_xlabel('Real')\n",
        "ax[0].set_ylabel('Imaginary')\n",
        "\n",
        "# Find the eigenvector corresponding to the zero eigenvalue\n",
        "idx = np.argsort(eigenvalues)\n",
        "\n",
        "# Extract the eigenvector corresponding to the second smallest eigenvalue, and plot it\n",
        "evecSmallest =eigenvectors[:,idx[-1]]\n",
        "\n",
        "# Normalize the eigenvector\n",
        "evecSmallest = evecSmallest / np.sum(evecSmallest)\n",
        "P_2ndEigVec = evecSmallest[::2]+evecSmallest[1::2]\n",
        "\n",
        "# Plot the eigenvector\n",
        "ax[1].plot(pProtein[-1,:])\n",
        "ax[1].plot(P_2ndEigVec,'--')\n",
        "ax[1].set_xlabel('Protein Level')\n",
        "ax[1].set_ylabel('Probability')\n",
        "ax[1].legend(['ODE Solver', 'Second Eigenvector'])\n"
      ]
    },
    {
      "cell_type": "markdown",
      "metadata": {},
      "source": [
        "## 7.2. Example: Genetic Toggle Switch\n",
        "![alt text](Figures/StoichiometryAndPropensity_2023/Slide32a.png)"
      ]
    },
    {
      "cell_type": "code",
      "execution_count": null,
      "metadata": {},
      "outputs": [],
      "source": [
        "# In this example, we will analyze the genetic toggle switch model using the FSP.\n",
        "# The parameters and rates for this model are copied from the previous modules.\n",
        "\n",
        "# Step 1: The number of species is 2: 'LacI', 'LambdaCI'\n",
        "#         The initial conditions are:  x0 = [10, 40]\n",
        "#         The initial condition corresponds to 10 molecules of 'LacI' and 100 of 'LambdaCI'\n",
        "#         The initial condition is defined as a 2 x 1 numpy array:\n",
        "x0 = np.array([30, 40])\n",
        "\n",
        "# Step 2: The number of reactions is 4:\n",
        "#         R1:  null -> LacI\n",
        "#         R2:  null -> LambdaCI\n",
        "#         R3:  LacI -> null\n",
        "#         R4:  LambdaCI -> null\n",
        "\n",
        "# Step 3: The stoichiometry matrix is a 2 x 4 matrix:\n",
        "#         Rows correspond to species and columns correspond to reactions.\n",
        "#         The matrix is defined as follows:\n",
        "S = np.array([[1, 0, -1, 0],\n",
        "        [0, 1, 0, -1]])\n",
        "\n",
        "# Step 4: Define the reaction rate parameters as a dictionary\n",
        "pars = {'k11': 0.02, 'k12': 1, 'a1': 10, 'eta1': 2, 'gamma1':0.02,\n",
        "        'k21': 0.02, 'k22': 1, 'a2': 10, 'eta2': 2, 'gamma2':0.02}\n",
        "def W(x,t,pars=pars):\n",
        "  return np.array([ pars['k11'] + pars['k12']/(1+(x[1]/pars['a1'])**pars['eta1']),\n",
        "                    pars['k21'] + pars['k22']/(1+(x[0]/pars['a2'])**pars['eta2']),\n",
        "                    pars['gamma1']*x[0],\n",
        "                    pars['gamma2']*x[1]])          "
      ]
    },
    {
      "cell_type": "code",
      "execution_count": null,
      "metadata": {},
      "outputs": [],
      "source": [
        "# Step 5 - Specify the State Space of the FSP projection.\n",
        "maxLacI = 80\n",
        "maxLambdaCI = 80\n",
        "states = np.zeros((2,(maxLacI+1)*(maxLambdaCI+1)), dtype=int)\n",
        "for i in range(maxLacI+1):\n",
        "    for j in range(maxLambdaCI+1):\n",
        "        states[:,i*(maxLambdaCI+1) + j] = [i, j]\n",
        "\n",
        "states = states[:,np.sum(states, axis=0) <= 120]"
      ]
    },
    {
      "cell_type": "code",
      "execution_count": null,
      "metadata": {},
      "outputs": [],
      "source": [
        "# Step 6 - Compute the Infinitesimal generators:\n",
        "infGens, sink, infGenTotal = build_inf_gen(S, W, states, pars)\n"
      ]
    },
    {
      "cell_type": "code",
      "execution_count": null,
      "metadata": {},
      "outputs": [],
      "source": [
        "# Step 7 - Define the initial probability vector\n",
        "\n",
        "# Find which state corresponds to the initial condition\n",
        "idx0 = np.where([(states[:,i]==x0).all() for i in range(states.shape[1])])\n",
        "# Initialize the initial probability vector\n",
        "P0 = np.zeros(infGenTotal.shape[1])\n",
        "# Set the probability of the initial state to 1\n",
        "P0[idx0] = 1"
      ]
    },
    {
      "cell_type": "code",
      "execution_count": null,
      "metadata": {},
      "outputs": [],
      "source": [
        "# Step 8 - Use Exponential Matrix to solve the FSP\n",
        "tspan = np.linspace(0, 500, 100)\n",
        "\n",
        "deltaT = tspan[1]-tspan[0]\n",
        "expmAt = scipy.linalg.expm(infGenTotal*deltaT)"
      ]
    },
    {
      "cell_type": "code",
      "execution_count": null,
      "metadata": {},
      "outputs": [],
      "source": [
        "# Solve the ODE\n",
        "Ptoggle = np.zeros((len(tspan), len(P0)))\n",
        "Ptoggle[0,:] = P0\n",
        "for i in range(1, len(tspan)):\n",
        "    Ptoggle[i,:] = expmAt @ Ptoggle[i-1,:]\n",
        "\n",
        "jointDist = np.zeros((len(tspan), maxLacI+1, maxLambdaCI+1))\n",
        "for i in range(len(states[0])):\n",
        "    jointDist[:, states[0,i], states[1,i]] = Ptoggle[:,i]"
      ]
    },
    {
      "cell_type": "code",
      "execution_count": null,
      "metadata": {},
      "outputs": [],
      "source": [
        "# Make an animation of the results\n",
        "fig, ax = plt.subplots(1,3, figsize=(12,4))\n",
        "def frame(iFrame):        \n",
        "    # ax.clear()\n",
        "    ax[0].cla()\n",
        "    ax[1].cla()\n",
        "    ax[2].cla()\n",
        "\n",
        "    # Next, plot the final distributions\n",
        "    distLacI = np.sum(jointDist[iFrame,:], axis=(1))\n",
        "    distLamdaCI= np.sum(jointDist[iFrame,:], axis=(0))\n",
        "    distBoth = jointDist[iFrame,:]\n",
        "\n",
        "    ax[0].plot(np.arange(maxLacI+1), distLacI)\n",
        "    ax[0].set_xlabel('Lacl')\n",
        "    ax[0].set_ylabel('Probability')\n",
        "    ylim = ax[0].get_ylim()\n",
        "\n",
        "    ax[1].plot(np.arange(maxLambdaCI+1), distLamdaCI)\n",
        "    ax[1].set_xlabel('RNA')\n",
        "    ax[1].set_ylim(ylim)\n",
        "\n",
        "    ax[2].contourf(np.arange(maxLambdaCI+1), np.arange(maxLacI+1), distBoth)\n",
        "    ax[2].set_xlabel('Lacl')\n",
        "    ax[2].set_ylabel('LambdaCI')\n",
        "    ax[2].set_ylim([0, 60])\n",
        "    ax[2].set_xlim([0, 60])\n",
        "    return ax\n",
        "anim = animation.FuncAnimation(fig, frame, frames=len(tspan), blit=False, repeat=False)\n",
        "anim"
      ]
    },
    {
      "cell_type": "markdown",
      "metadata": {},
      "source": [
        "## 7.3. Example: Bursting Gene Expression with mRNA and Protein\n",
        "\n",
        "Here we extend the above analysis to include both transcription and translation in the gene expression process.\n",
        "\n",
        "We will consider a negative autoregulation model, where the protein deactivates its own gene expression."
      ]
    },
    {
      "cell_type": "code",
      "execution_count": null,
      "metadata": {},
      "outputs": [],
      "source": [
        "# Step 1: The number of species is 3:  'OFF', 'ON', 'mRNA', 'Protein'\n",
        "#         The initial conditions are:  x0 = [1, 0, 0, 0]\n",
        "#         The initial condition corresponds to 1 molecule of 'OFF' and 0 molecules of 'ON', 'mRNA' and 'Protein'\n",
        "#         The initial condition is defined as a 4 x 1 numpy array:\n",
        "x0 = np.array([1, 0, 5, 5])\n",
        "\n",
        "# Step 2: The number of reactions is 7:\n",
        "#         R1:  OFF -> ON\n",
        "#         R2:  ON + 2 x Protein -> OFF\n",
        "#         R3:  ON -> ON + mRNA\n",
        "#         R4:  OFF -> OFF + mRNA\n",
        "#         R5:  mRNA -> null\n",
        "#         R6:  mRNA -> mRNA + Protein\n",
        "#         R7:  Protein -> null\n",
        "\n",
        "# Step 3: The stoichiometry matrix is a 3 x 4 matrix:\n",
        "#         Rows correspond to species and columns correspond to reactions.\n",
        "#         The matrix is defined as follows:\n",
        "S = np.array([[-1, 1, 0, 0, 0, 0, 0],\n",
        "              [1, -1, 0, 0, 0, 0, 0],\n",
        "              [0, 0, 1, 1, -1, 0, 0],\n",
        "              [2, -2, 0, 0, 0, 1, -1]])\n",
        "\n",
        "# Step 4: Define the reaction rate parameters as a dictionary\n",
        "pars = {'kon': 0.01, 'koff': 0.01, 'krOn': 2, 'krOff':0.1, 'kP':0.03, 'gamR':0.1, 'gamP':0.01}\n",
        "def W(x,t,pars=pars):\n",
        "  return np.array([pars['kon']*x[0],\n",
        "                   pars['koff']*x[1]*x[3]*(x[3]-1)/2,\n",
        "                   pars['krOn']*x[1],\n",
        "                   pars['krOff']*x[0],\n",
        "                   pars['gamR']*x[2],\n",
        "                   pars['kP']*x[2],\n",
        "                   pars['gamP']*x[3]])\n"
      ]
    },
    {
      "cell_type": "code",
      "execution_count": null,
      "metadata": {},
      "outputs": [],
      "source": [
        "# Step 5: Specify the State Space of the FSP projection.\n",
        "maxR = 30\n",
        "maxP = 60\n",
        "states = np.zeros((4, (maxR+1)*(maxP+1)*2),int)\n",
        "for i in range(maxR+1):\n",
        "    for j in range(maxP+1):\n",
        "        states[:,2*(i*(maxP+1)+j):2*(i*(maxP+1)+j)+2] = \\\n",
        "            [[1,0], [0,1], [i,i], [j,j]]\n",
        "        \n",
        "print(states.shape)"
      ]
    },
    {
      "cell_type": "code",
      "execution_count": null,
      "metadata": {},
      "outputs": [],
      "source": [
        "# Step 6: Compute the Infinitesimal generators:\n",
        "infGens, sink, infGenTotal = build_inf_gen(S, W, states, pars)"
      ]
    },
    {
      "cell_type": "code",
      "execution_count": null,
      "metadata": {},
      "outputs": [],
      "source": [
        "# Step 7 - Define the initial probability vector\n",
        "\n",
        "# Find which state corresponds to the initial condition\n",
        "idx0 = np.where([(states[:,i]==x0).all() for i in range(states.shape[1])])\n",
        "# Initialize the initial probability vector\n",
        "P0 = np.zeros(infGenTotal.shape[1])\n",
        "# Set the probability of the initial state to 1\n",
        "P0[idx0] = 1"
      ]
    },
    {
      "cell_type": "code",
      "execution_count": null,
      "metadata": {},
      "outputs": [],
      "source": [
        "# Step 8: Solve for the matrix exponential and use it to find the CME solution\n",
        "tspan = np.linspace(0, 1000, 100)\n",
        "deltaT = tspan[1]-tspan[0]\n",
        "expmAt = scipy.linalg.expm(infGenTotal*deltaT)"
      ]
    },
    {
      "cell_type": "code",
      "execution_count": null,
      "metadata": {},
      "outputs": [],
      "source": [
        "P_burstRnaProtein = np.zeros((len(tspan), len(infGenTotal)))\n",
        "P_burstRnaProtein[0,:] = P0\n",
        "for i in range(1, len(tspan)):\n",
        "    P_burstRnaProtein[i,:] = expmAt @ P_burstRnaProtein[i-1,:]"
      ]
    },
    {
      "cell_type": "code",
      "execution_count": null,
      "metadata": {},
      "outputs": [],
      "source": [
        "# Plot the results - First, plot the error term to see how good is the solution approximation.\n",
        "plt.figure(figsize=(4,4))\n",
        "plt.plot(tspan, P_burstRnaProtein[:,-1])\n",
        "\n",
        "# Next plot the average mRNA level versus time\n",
        "plt.figure(figsize=(4,4))\n",
        "meanProtein = P_burstRnaProtein[:,:-1] @ states[2,:]\n",
        "plt.plot(tspan, meanProtein)\n",
        "\n",
        "# Next plot the average protein level versus time\n",
        "plt.figure(figsize=(4,4))\n",
        "meanProtein = P_burstRnaProtein[:,:-1] @ states[3,:]\n",
        "plt.plot(tspan, meanProtein)\n"
      ]
    },
    {
      "cell_type": "code",
      "execution_count": null,
      "metadata": {},
      "outputs": [],
      "source": [
        "jointDist = np.zeros((len(tspan), 2, 2, maxR+1, maxP+1))\n",
        "for i in range(len(states[0])):\n",
        "    jointDist[:, states[0,i], states[1,i], states[2,i], states[3,i]] = P_burstRnaProtein[:,i]\n",
        "\n"
      ]
    },
    {
      "cell_type": "code",
      "execution_count": null,
      "metadata": {},
      "outputs": [],
      "source": [
        "# Next, plot the final distributions\n",
        "distOn = np.sum(jointDist[-1,:], axis=(0,2,3))\n",
        "distProt = np.sum(jointDist[-1,:], axis=(0,1,2))\n",
        "distRNA = np.sum(jointDist[-1,:], axis=(0,1,3))\n",
        "distRNAprot = np.sum(jointDist[-1,:], axis=(0,1))\n",
        "\n",
        "fig, ax = plt.subplots(1,4, figsize=(16,4))\n",
        "ax[0].bar(np.arange(2), distOn)\n",
        "ax[0].set_xlabel('ON')\n",
        "ax[0].set_ylabel('Probability')\n",
        "\n",
        "ax[1].plot(np.arange(maxR+1), distRNA)\n",
        "ax[1].set_xlabel('RNA')\n",
        "\n",
        "ax[2].plot(np.arange(maxP+1), distProt)\n",
        "ax[2].set_xlabel('Protein')\n",
        "\n",
        "ax[3].contourf(np.arange(maxP+1), np.arange(maxR+1), distRNAprot)\n",
        "ax[3].set_xlabel('Protein')\n",
        "ax[3].set_ylabel('RNA')"
      ]
    },
    {
      "cell_type": "code",
      "execution_count": null,
      "metadata": {},
      "outputs": [],
      "source": [
        "# Make an Animation of the joint mRNA/Protein probability distribution over time.\n",
        "fig, ax = plt.subplots(1,4, figsize=(16,4))\n",
        "def frame(iFrame):\n",
        "    # ax.clear()\n",
        "    ax[0].cla()\n",
        "    ax[1].cla()\n",
        "    ax[2].cla()\n",
        "    ax[3].cla()\n",
        "\n",
        "    # Next, plot the final distributions\n",
        "    distOn = np.sum(jointDist[iFrame,:], axis=(0,2,3))\n",
        "    distProt = np.sum(jointDist[iFrame,:], axis=(0,1,2))\n",
        "    distRNA = np.sum(jointDist[iFrame,:], axis=(0,1,3))\n",
        "    distRNAprot = np.sum(jointDist[iFrame,:], axis=(0,1))\n",
        "\n",
        "    ax[0].bar(np.arange(2), distOn)\n",
        "    ax[0].set_xlabel('ON')\n",
        "    ax[0].set_ylabel('Probability')\n",
        "\n",
        "    ax[1].plot(np.arange(maxR+1), distRNA)\n",
        "    ax[1].set_xlabel('RNA')\n",
        "\n",
        "    ax[2].plot(np.arange(maxP+1), distProt)\n",
        "    ax[2].set_xlabel('Protein')\n",
        "\n",
        "    ax[3].contourf(np.arange(maxP+1), np.arange(maxR+1), distRNAprot)\n",
        "    ax[3].set_xlim([0,30])\n",
        "    ax[3].set_ylim([0,20])\n",
        "    ax[3].set_xlabel('Protein')\n",
        "    ax[3].set_ylabel('RNA')\n",
        "    return ax\n",
        "anim = animation.FuncAnimation(fig, frame, frames=len(tspan), blit=False, repeat=False)\n",
        "anim"
      ]
    },
    {
      "cell_type": "code",
      "execution_count": null,
      "metadata": {},
      "outputs": [],
      "source": [
        "# Note, that distributions can hide some very interesting phenomena. \n",
        "# To see how that might be the case, let's look at some SSA simulations of the same process.\n",
        "\n",
        "ssaTrajectories = nGillespies(x0, 0, np.max(tspan), S, pars, 20, tspan)\n",
        "# Make an Animation of the joint mRNA/Protein probability distribution over time.\n",
        "fig, ax = plt.subplots(1,1, figsize=(4,4))\n",
        "def frame(iFrame):\n",
        "    ax.clear()\n",
        "\n",
        "    for i in range(20):\n",
        "        ax.plot(ssaTrajectories[i,:iFrame,3], ssaTrajectories[i,:iFrame,2], 'k-', alpha=0.15)\n",
        "        ax.plot(ssaTrajectories[i,iFrame,3], ssaTrajectories[i,iFrame,2], 'o')\n",
        "\n",
        "    ax.set_xlabel('Protein')\n",
        "    ax.set_ylabel('RNA')\n",
        "    ax.set_xlim([0,30])\n",
        "    ax.set_ylim([0,20])\n",
        "    return ax\n",
        "anim = animation.FuncAnimation(fig, frame, frames=len(tspan), blit=False, repeat=False)\n",
        "anim"
      ]
    },
    {
      "cell_type": "markdown",
      "metadata": {
        "id": "H0C9opfRdog5"
      },
      "source": [
        "\n",
        "## 7.4. Example: Ecology Extinction-Explosion Model\n",
        "\n",
        "A population of rabbits inhabit an island whose popluation over time follows a stochastic trajectory (SSA). If the population of rabbits ever hits zero or one by random chance, no rabbits can ever be made again and the population is destined to be zero forerver. Conversely, when the number of rabbits becomes large, the rate of birth exceeds the rate of death and the population is destined to explode to infinte rabbits. There are two destinies for the stochastic rabbit population: explosion or extinction.\n",
        "\n",
        "1.  Create the Extinction-Explosion Model infinitesimal generator for an arbitrary number of states using the figure below. Let kappa=0.005 and gamma = 0.05 using the figure below.\n",
        "2.  Solve for the time dynamics of the system using the matrix exponential.\n"
      ]
    },
    {
      "attachments": {
        "image.png": {
          "image/png": "[encoded data removed]"
        }
      },
      "cell_type": "markdown",
      "metadata": {},
      "source": [
        "![image.png](attachment:image.png)"
      ]
    },
    {
      "cell_type": "code",
      "execution_count": null,
      "metadata": {
        "colab": {
          "background_save": true
        },
        "id": "pA1lf_avM4xH"
      },
      "outputs": [],
      "source": [
        "# Step 1: The number of species is 1:  'Rabbit'\n",
        "#         The initial conditions are:  x0 = [10] \n",
        "\n",
        "# Step 2: The number of reactions is 2:\n",
        "#         R1:  Rabbit + Rabbit -> Rabbit + Rabbit + Rabbot\n",
        "#         R2:  Rabbit -> null\n",
        "# The reaction rate parameters as a dictionary are:\n",
        "pars = {'kappa': 0.005, 'gamma': 0.05}\n",
        "\n",
        "# Step 3: The stoichiometry matrix is a 1 x 2 matrix:\n",
        "S = np.array([1, -1]).reshape(1,2)\n",
        "\n",
        "# Step 4: Define the propensity function\n",
        "def W(x,t,pars=pars):\n",
        "    return np.array([pars['kappa']*x[0]*(x[0]-1), pars['gamma']*x[0]])\n",
        "\n",
        "# Step 5: Define the State Space of the FSP projection.\n",
        "maxRabbit = 100\n",
        "states = np.zeros((1, maxRabbit+1))\n",
        "states[0,:] = np.arange(maxRabbit+1)\n",
        "\n",
        "# Step 6: Compute the Infinitesimal generators:\n",
        "infGens, sink, infGenTotal = build_inf_gen(S, W, states, pars)"
      ]
    },
    {
      "cell_type": "code",
      "execution_count": null,
      "metadata": {},
      "outputs": [],
      "source": [
        "# Step 7: Define the time span, and solve for the distribution as a function of time.\n",
        "tspan = np.linspace(0, 200, 100)\n",
        "\n",
        "# Define the initial distribution\n",
        "x0 = [10]\n",
        "P0 = np.zeros(len(infGenTotal))\n",
        "P0[x0[0]] = 1\n",
        "\n",
        "# Solve the ODE using the EXPM Approach\n",
        "expAt = scipy.linalg.expm(infGenTotal*(tspan[1]-tspan[0]))\n",
        "P = np.zeros((len(tspan), len(P0)))\n",
        "P[0,:] = P0\n",
        "for i in range(1, len(tspan)):\n",
        "    P[i,:] = expAt @ P[i-1,:]\n",
        "\n",
        "# Plot the results\n",
        "plt.figure(figsize=(4,4))\n",
        "plt.plot(tspan, P[:,-1])\n",
        "plt.plot(tspan, P[:,0])\n",
        "plt.xlabel('Time')\n",
        "plt.ylabel('Escape Probability')\n",
        "plt.legend(['Explosion', 'Extinction'])"
      ]
    },
    {
      "cell_type": "code",
      "execution_count": null,
      "metadata": {
        "colab": {
          "background_save": true
        },
        "id": "lJfrfWmDgZzt"
      },
      "outputs": [],
      "source": [
        "# Make an Animation of the probability distribution over time.\n",
        "fig = plt.figure(figsize=(6,4))\n",
        "ax = plt.axes()\n",
        "def frame(iFrame):\n",
        "    ax.clear()\n",
        "    plt.title(\"P(x;t)\")\n",
        "    ax.set_xlabel('Number of Rabbits')\n",
        "    ax.set_ylabel('Probability')\n",
        "    ax.step(range(maxRabbit+2),P[iFrame,:])\n",
        "    return ax\n",
        "anim = animation.FuncAnimation(fig, frame, frames=len(tspan), blit=False, repeat=False)\n",
        "anim"
      ]
    },
    {
      "cell_type": "markdown",
      "metadata": {},
      "source": [
        "# 8. Using Linear Algebra to Compute CME Dynamics\n",
        "\n",
        "Recall that the CME is given by\n",
        "$$\\frac{d\\mathbf{P}}{dt} = \\mathbf{AP}$$\n",
        "\n",
        "where $\\mathbf{P}$ is the **probability mass vector**, and $\\mathbf{A}$ is the **infinitesimal generator matrix**.  The solution to this equation is given by\n",
        "$$\\mathbf{P}(t) = \\text{expm}\\left({\\mathbf{A}t}\\right)\\mathbf{P}(0),$$\n",
        "\n",
        "where $\\text{expm}$ is the matrix exponential function.  The matrix exponential is defined as\n",
        "$$\\text{expm}(\\mathbf{A}) = \\sum_{n=0}^{\\infty} \\frac{\\mathbf{A}^n}{n!},$$\n",
        "\n",
        "where $\\mathbf{A}^n$ is the matrix $\\mathbf{A}$ raised to the $n$th power, and $n!$ is the factorial of $n$.  The matrix exponential can be computed using the Taylor series expansion, or using numerical methods such as the Padé approximation or the scaling and squaring method.\n",
        "\n",
        "## 8.1. Steady State Distribution\n",
        "\n",
        "The **steady state distribution** is the solution to the CME when the system has reached equilibrium.  This means that the probability mass vector does not change over time, i.e., \n",
        "\n",
        "$$\\lim_{t\\rightarrow \\infty}\\frac{d\\mathbf{P}}{dt} = \\mathbf{0}.$$\n",
        "\n",
        "This means that the steady state dictribution $\\mathbf{P}_{ss}$ is an eigenvector of the infinitesimal generator matrix $\\mathbf{A}$ with an eigenvalue of zero, i.e.,\n",
        "$$\\lim_{t\\rightarrow \\infty}\\frac{d\\mathbf{P}}{dt} =\\mathbf{A}\\mathbf{P}_{ss} = \\lambda_{ss}\\mathbf{P}_{ss} = 0\\mathbf{P}_{ss},$$\n",
        "where $\\lambda_{ss} = 0$.  \n",
        "\n",
        "## 8.2. Eigenvalues and Eigenvectors of the Infinitesimal Generator Matrix\n",
        "We can also examine and use other eigenvalue/vector pairs from the infinitesimal generator matrix. Let the matrix $\\mathbf{V} = [\\mathbf{v}_1,\\mathbf{v}_2,\\ldots,\\mathbf{v}_N]$ be the matrix of eigenvectors of the infinitesimal generator matrix $\\mathbf{A}$, and let the diagonal matrix $\\mathbf{\\Lambda}$ be the matrix of eigenvalues of the infinitesimal generator matrix $\\mathbf{A}$. Note - one can compute all eigenvalues and eigenvectors of the infinitesimal generator matrix using the `numpy.linalg.eig` function in Python. \n",
        "\n",
        "## 8.3. Projecting the CME Solution onto its Eigenvector Space\n",
        "\n",
        "The CME solution can be transformed into the eigenvector space of the infinitesimal generator matrix.  To transform the probability mass vector $\\mathbf{P}$ onto the eigenvector space, we multiply the probability mass vector by the inverse of the eigenvector matrix, i.e.,\n",
        "$$\\mathbf{P}_{eigen} = \\mathbf{V}^{-1}\\mathbf{P}.$$\n",
        "\n",
        "We can do this same transformation to both sides of the CME equation, i.e.,\n",
        "$$\\mathbf{V}^{-1}\\frac{d\\mathbf{P}}{dt} = \\mathbf{V}^{-1}\\mathbf{A}\\mathbf{P},$$\n",
        "which (by substituting $\\mathbf{P} = \\mathbf{V}\\mathbf{P}_{eigen}$) gives us\n",
        "$$\\frac{d\\mathbf{P}_{eigen}}{dt} = \\mathbf{V}^{-1}\\mathbf{A}\\mathbf{V}\\mathbf{P}_{eigen},$$\n",
        "which can be simplified to\n",
        "$$\\frac{d\\mathbf{P}_{eigen}}{dt} = \\mathbf{\\Lambda}\\mathbf{P}_{eigen},$$\n",
        "where $\\mathbf{\\Lambda}$ is the diagonal matrix of eigenvalues of the infinitesimal generator matrix $\\mathbf{A}$.\n",
        "\n",
        "## 8.4. Solving the CME in Eigenvector Space\n",
        "The solution to the CME in eigenvector space is given by\n",
        "$$\\mathbf{P}_{eigen}(t) = \\text{expm}\\left({\\mathbf{\\Lambda}t}\\right)\\mathbf{P}_{eigen}(0),$$\n",
        "where $\\text{expm}$ is the matrix exponential function.  The matrix exponential of a diagonal matrix is simply the diagonal matrix with each element raised to the power of the corresponding eigenvalue, i.e.,\n",
        "$$\\text{expm}\\left({\\mathbf{\\Lambda}t}\\right) = \\text{diag}\\left(e^{\\lambda_1 t}, e^{\\lambda_2 t}, \\ldots, e^{\\lambda_N t}\\right),$$\n",
        "where $\\lambda_i$ is the $i^{th}$ eigenvalue of the infinitesimal generator matrix $\\mathbf{A}$.\n",
        "\n",
        "All eigenvalues of the infinitesimal generator matrix have non-positive real parts.  This means that all eigenvalues will decay to zero over time, except for the zero eigenvalues, which will remain constant.  In particular, if there is only one zero eigenvalue, then the steady state distribution will be the only non-decaying component of the CME solution.  If there are multiple zero eigenvalues, then the steady state distribution will be a linear combination of the corresponding eigenvectors.\n",
        "\n",
        "## 8.5. Example: Using Eigenvalue and Eigenvector Analysis on the CME."
      ]
    },
    {
      "cell_type": "code",
      "execution_count": null,
      "metadata": {},
      "outputs": [],
      "source": [
        "## Let's  look again at the infinitesimal generator matrix for the Rabbit model above.\n",
        "\n",
        "# Compute the eigenvalues and eigenvectors of the infinitesimal generator\n",
        "eigenvalues, eigenvectors = np.linalg.eig(infGenTotal)\n",
        "\n",
        "# Plot the real and imaginary parts of the eigenvalues\n",
        "fig, ax = plt.subplots(1,1, figsize=(4,4))\n",
        "ax.plot(np.real(eigenvalues), np.imag(eigenvalues), 'o')\n",
        "ax.set_xlabel('Real')\n",
        "ax.set_ylabel('Imaginary')\n",
        "plt.show()\n",
        "\n",
        "# Print the number of eigenvalues equal to zero\n",
        "print('Number of eigenvalues equal to zero: ', np.sum(np.abs(eigenvalues) < 1e-10))"
      ]
    },
    {
      "cell_type": "markdown",
      "metadata": {},
      "source": [
        "In this case, there are two eigenvalues equal to zero, and the steady state distribution will be a linear combination of the corresponding eigenvectors. \n",
        "\n",
        "These two eigenvectors correspond to the two possible outcomes -- explosion or extinction.  The steady state distribution will be a linear combination of these two eigenvectors, which means that the system will have a non-zero probability of either outcome.  Let's see how to compute the final probabilities of explosion and extinction using the eigenvalue and eigenvector analysis."
      ]
    },
    {
      "cell_type": "code",
      "execution_count": null,
      "metadata": {},
      "outputs": [],
      "source": [
        "# Project the initial condition onto the eigenvectors.\n",
        "# We will do this by solving the linear system of equations:\n",
        "# P0 = eigenvectors @ P0_eigen\n",
        "P0_eigen = np.linalg.solve(eigenvectors, P0)\n",
        "\n",
        "# Find the indices of the eigenvalues that are close to zero\n",
        "idx = np.argsort(eigenvalues)\n",
        "# Extract the two valeus of P0_eigen that correspond to the two eigenvalues that are close to zero\n",
        "P_Explosion =  np.real(P0_eigen[idx[-1]])\n",
        "P_Extinction = np.real(P0_eigen[idx[-2]])\n",
        "\n",
        "print('P_Explosion: ', P_Explosion)\n",
        "print('P_Extinction: ', P_Extinction)\n",
        "\n",
        "# Add dashed lines to previous plot to compare approaches.\n",
        "plt.figure(figsize=(4,4))\n",
        "plt.plot(tspan, P[:,-1],'b')\n",
        "plt.plot(tspan, P[:,0],'r')\n",
        "# add horizontal lines\n",
        "plt.axhline(y=P_Explosion, color='r', linestyle='--')\n",
        "plt.axhline(y=P_Extinction, color='b', linestyle='--')\n",
        "plt.xlabel('Time')\n",
        "plt.ylabel('Escape Probability')\n",
        "plt.legend(['Explosion - Full CME Solution', 'Extinction - Full CME Solution ', 'Explosion - SS Solution', 'Extinction - SS Solution'])\n",
        "plt.show()"
      ]
    }
  ],
  "metadata": {
    "colab": {
      "provenance": []
    },
    "kernelspec": {
      "display_name": "Python 3",
      "language": "python",
      "name": "python3"
    },
    "language_info": {
      "codemirror_mode": {
        "name": "ipython",
        "version": 3
      },
      "file_extension": ".py",
      "mimetype": "text/x-python",
      "name": "python",
      "nbconvert_exporter": "python",
      "pygments_lexer": "ipython3",
      "version": "3.10.16"
    }
  },
  "nbformat": 4,
  "nbformat_minor": 0
}
