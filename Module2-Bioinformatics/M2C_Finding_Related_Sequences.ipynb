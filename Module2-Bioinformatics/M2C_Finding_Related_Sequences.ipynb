{
 "cells": [
  {
   "cell_type": "markdown",
   "id": "90c32b4b-abb4-431a-90c2-4ab0bcb71d3d",
   "metadata": {},
   "source": [
    "<html>\n",
    "    <summary></summary>\n",
    "         <div> <p></p> </div>\n",
    "         <div style=\"font-size: 20px; width: 800px;\"> \n",
    "              <h1>\n",
    "               <left>Intro to Bioinformatics in Python: Downloading and Annotating Genomic Sequences.</left>\n",
    "              </h1>\n",
    "              <p><left>============================================================================</left> </p>\n",
    "<pre>Course: BIOM/CBE 480A5, Spring 2025\n",
    "Instructor: Brian Munsky\n",
    "Contact Info: munsky@colostate.edu\n",
    "</pre>\n",
    "         </div>\n",
    "    </p>\n",
    "\n",
    "</html>\n",
    "\n",
    "<details>\n",
    "  <summary>Copyright info</summary>\n",
    "\n",
    "```\n",
    "Copyright 2024 Brian Munsky\n",
    "\n",
    "Redistribution and use in source and binary forms, with or without modification, are permitted provided that the following conditions are met:\n",
    "\n",
    "1. Redistributions of source code must retain the above copyright notice, this list of conditions and the following disclaimer.\n",
    "\n",
    "2. Redistributions in binary form must reproduce the above copyright notice, this list of conditions and the following disclaimer in the documentation and/or other materials provided with the distribution.\n",
    "\n",
    "3. Neither the name of the copyright holder nor the names of its contributors may be used to endorse or promote products derived from this software without specific prior written permission.\n",
    "\n",
    "THIS SOFTWARE IS PROVIDED BY THE COPYRIGHT HOLDERS AND CONTRIBUTORS \"AS IS\" AND ANY EXPRESS OR IMPLIED WARRANTIES, INCLUDING, BUT NOT LIMITED TO, THE IMPLIED WARRANTIES OF MERCHANTABILITY AND FITNESS FOR A PARTICULAR PURPOSE ARE DISCLAIMED. IN NO EVENT SHALL THE COPYRIGHT HOLDER OR CONTRIBUTORS BE LIABLE FOR ANY DIRECT, INDIRECT, INCIDENTAL, SPECIAL, EXEMPLARY, OR CONSEQUENTIAL DAMAGES (INCLUDING, BUT NOT LIMITED TO, PROCUREMENT OF SUBSTITUTE GOODS OR SERVICES; LOSS OF USE, DATA, OR PROFITS; OR BUSINESS INTERRUPTION) HOWEVER CAUSED AND ON ANY THEORY OF LIABILITY, WHETHER IN CONTRACT, STRICT LIABILITY, OR TORT (INCLUDING NEGLIGENCE OR OTHERWISE) ARISING IN ANY WAY OUT OF THE USE OF THIS SOFTWARE, EVEN IF ADVISED OF THE POSSIBILITY OF SUCH DAMAGE.\n",
    "```\n",
    "<details>\n",
    "\n"
   ]
  },
  {
   "cell_type": "code",
   "execution_count": 15,
   "id": "33813934",
   "metadata": {},
   "outputs": [],
   "source": [
    "# %pip install biopython\n",
    "# %pip install Bio\n",
    "import Bio\n",
    "from Bio import Entrez, SeqIO, pairwise2, AlignIO, Phylo\n",
    "from Bio.Blast import NCBIWWW, NCBIXML\n",
    "from Bio.Seq import Seq\n",
    "from Bio.SeqRecord import SeqRecord\n",
    "from Bio.SeqUtils import ProtParam\n",
    "from Bio.Phylo.TreeConstruction import DistanceCalculator, DistanceTreeConstructor\n",
    "\n",
    "import matplotlib.pyplot as plt\n",
    "import matplotlib.image as mpimg\n",
    "import webbrowser\n",
    "#\n",
    "import os\n",
    "import threading\n",
    "\n",
    "from Bio import Align\n",
    "from Bio.Align import Alignment\n",
    "from pymsaviz import MsaViz"
   ]
  },
  {
   "cell_type": "code",
   "execution_count": 16,
   "id": "a750f91b-5d63-4be6-a627-2864fd3d56e8",
   "metadata": {},
   "outputs": [],
   "source": [
    "#(PRELIMINARIES) Let's download the COVID19 virus sequence from NCBI\n",
    "# Provide your email for accessing NCBI\n",
    "Entrez.email = \"hayley.stern@colostate.edu\"  # Insert your email here\n",
    "\n",
    "def get_genbank(accession_number):\n",
    "    handle = Entrez.efetch(db=\"nucleotide\", id=accession_number, rettype=\"gb\", retmode=\"text\")\n",
    "    record = SeqIO.read(handle, \"genbank\")\n",
    "    handle.close()\n",
    "    return record\n",
    "\n",
    "corona_virus = get_genbank(\"MN908947\")"
   ]
  },
  {
   "cell_type": "code",
   "execution_count": 17,
   "id": "2bdc440b",
   "metadata": {},
   "outputs": [],
   "source": [
    "# Let's get our protein of interest from last time.\n",
    "\n",
    "# Function to find ORFs in all frames of a sequence\n",
    "def find_all_orfs(sequence):\n",
    "    orf_list = []           # List of all the ORF we find\n",
    "    for frame in range(3):  # Check each of the three reading frames\n",
    "        orfs = []           # List of ORFs for the current frame   \n",
    "        lastStop = frame    # Position of last stop codon.\n",
    "        for orf in sequence[frame:].translate(to_stop=False).split('*'):     # Translate the curent frame sequence into AA and break up by stop codons\n",
    "            if len(orf) > 30:                                                # Consider ORFs longer than 50 amino acids\n",
    "                start = lastStop + orf.find('M') * 3 if 'M' in orf else None # Update start codon position to next M, \n",
    "                stop = lastStop + (len(orf))*3 if 'M' in orf else None       # Update stop codon to next '*'\n",
    "                if start is not None and stop is not None:                   # In the coding region is >30AA\n",
    "                    orfs.append((start, stop))                                      # Append the start and stop positions for that ORF\n",
    "            lastStop += len(orf)*3 + 3           # Update the position of the last stop codon\n",
    "        orf_list.append(orfs)                    # Append the list of ORFs for the current frame\n",
    "    return orf_list\n",
    "\n",
    "def pickNLargestORF(orfs,N=5):\n",
    "    Lengths = []\n",
    "    Bounds = []\n",
    "    for frame, orf in enumerate(orfs):\n",
    "        for start, stop in orf:\n",
    "            Lengths.append(stop-start)\n",
    "            Bounds.append([start,stop])\n",
    "    enumerated_list = list(enumerate(Lengths))\n",
    "    sortedLengths = sorted(enumerated_list, key=lambda x: abs(x[1]), reverse=True)\n",
    "    Bounds = [Bounds[index] for index, _ in sortedLengths[:N]]\n",
    "    return Bounds\n",
    "\n",
    "# Find all ORFs in each frame of the sequence\n",
    "orf_positions = find_all_orfs(corona_virus.seq)\n",
    "\n",
    "# Pick the largest ORF and translate it to amino acids\n",
    "longestORFbounds = pickNLargestORF(orf_positions,10)\n",
    "longestORFsequences = [corona_virus.seq[longestORFbounds[index][0]:].translate(to_stop=True) for index in range(10)]\n",
    "\n",
    "# From last time, our protein of interest is the third largest ORF (i.e., sequence 2):\n",
    "proteinOfInterest = longestORFsequences[2]"
   ]
  },
  {
   "cell_type": "markdown",
   "id": "b08cacbd-7a1a-4a00-9efb-12be7932946c",
   "metadata": {},
   "source": [
    "# 2) Creating and requesting a BLAST query.\n",
    "\n",
    "The ```BLAST``` (Basic Local Alignment Search Tool) software is widely used in bioinformatics for comparing sequences, and its results are fundamental to the interpretation of a wide spectrum of biological data. In this case, we will make a BLAST using a module of Biopython, the ```Bio.Blast``` module.\n",
    "\n",
    "In Python, BLAST process is asynchronous which means the script will need to wait and retrieve the result once it’s ready. \n",
    "\n",
    "The handle to the results is returned from the qblast() function and can then be parsed. The result would be in XML format which you would need to parse to get the actual BLAST_IDs and associated information.  The following section of the code can take different lengths of time depending on the numer of others who are using BLAST at the moment. Last time I ran this, it took 4 minutes, but it could take more or less time."
   ]
  },
  {
   "cell_type": "code",
   "execution_count": 18,
   "id": "95a75703-4919-401f-971c-3b9bf78a63ca",
   "metadata": {
    "tags": []
   },
   "outputs": [],
   "source": [
    "# Slice protein to only use the first 200 nucleotides\n",
    "protein_sequence = proteinOfInterest[0:200]\n",
    "\n",
    "# Set up the BLAST query for the NCBI database \n",
    "# This submits the query to the NCBI server for comparison to their database of sequences\n",
    "# The 'protein-protein BLAST' (blastp) is used here\n",
    "blast_result = NCBIWWW.qblast(\"blastp\", \"nr\", protein_sequence)\n"
   ]
  },
  {
   "cell_type": "markdown",
   "id": "ba6f773a-3265-4194-a4a9-bfc48838c05d",
   "metadata": {},
   "source": [
    "## 2.A) Downloading the BLAST results\n",
    "\n",
    "The BLAST was run online, and we need to retrieve the results before we can do anything with them.  "
   ]
  },
  {
   "cell_type": "code",
   "execution_count": 19,
   "id": "cfe7d9e2-671d-4bbe-b1b7-e33b54b67e5b",
   "metadata": {
    "tags": []
   },
   "outputs": [],
   "source": [
    "# Here, we download and save the BLAST results as an XML file.\n",
    "blast_file_xml = \"proteinBLASTresult.xml\"\n",
    "with open(blast_file_xml, \"w\") as out_handle:\n",
    "    out_handle.write(blast_result.read())"
   ]
  },
  {
   "cell_type": "markdown",
   "id": "5fb2a46d-aeef-4820-b4df-2b5b52a61ac8",
   "metadata": {},
   "source": [
    "Once we have downloaded them, we can convert them over into the FASTA format that we are more familiar with."
   ]
  },
  {
   "cell_type": "code",
   "execution_count": 20,
   "id": "4f43c68d-abc0-4ee3-901a-65cbbc325134",
   "metadata": {
    "tags": []
   },
   "outputs": [],
   "source": [
    "# In order to read the downloaded BLAST XML result file, it is useful to convert it to a FASTA file.\n",
    "def convert_xml_2_fasta(blast_file_xml,blast_file_fasta):\n",
    "    # Parse the BLAST XML file using NCBIXML         \n",
    "    blast_records = NCBIXML.parse(open(blast_file_xml))\n",
    "    with open(blast_file_fasta, \"w\") as handle:\n",
    "        # Write the first sequence\n",
    "        handle.write(f\">Original\\n{protein_sequence}\\n\")\n",
    "        for blast_record in blast_records:\n",
    "            for idx, alignment in enumerate(blast_record.alignments):\n",
    "                for hsp in alignment.hsps:\n",
    "                    # Extract the ID for each new sequence\n",
    "                    ID = alignment.title.split('|')[:2]\n",
    "                    if len(ID)>1:\n",
    "                        ID = (ID[0]+'|'+ID[1])\n",
    "                    else:\n",
    "                        ID = ID[0]\n",
    "                    # Write the seq ID and sequence to FASTA file\n",
    "                    handle.write(f\">{ID}\\n{hsp.sbjct}\\n\")\n",
    "\n",
    "blast_file_xml = \"proteinBLASTresult.xml\"\n",
    "blast_file_fasta = \"proteinBLASTresult.fa\"\n",
    "convert_xml_2_fasta(blast_file_xml,blast_file_fasta)                "
   ]
  },
  {
   "cell_type": "markdown",
   "id": "f05f60ef",
   "metadata": {},
   "source": [
    "### Exploring the contents of BLAST results\n",
    "\n",
    "Now that we have BLAST results in XML and PASTA formats, let's look at the information we have collected."
   ]
  },
  {
   "cell_type": "markdown",
   "id": "9faa44ba",
   "metadata": {},
   "source": [
    "First, lets look at what was contained in the BLAST XML that we downloaded from NCBI:\n",
    "\n",
    "A ```BLAST XML file``` contains the results of a ```BLAST``` (Basic Local Alignment Search Tool) search. The file is structured in XML format and includes detailed information about the query sequence, the database searched, and the alignment results. Here is a description of the key elements typically found in a BLAST XML file:\n",
    "\n",
    "### Key Elements:\n",
    "\n",
    "1. **BlastOutput**: The root element containing the entire BLAST result.\n",
    "   - **BlastOutput_program**: The name of the BLAST program used (e.g., blastn, blastp).\n",
    "   - **BlastOutput_version**: The version of the BLAST program.\n",
    "   - **BlastOutput_reference**: Reference information for the BLAST program.\n",
    "   - **BlastOutput_db**: The database searched.\n",
    "   - **BlastOutput_query-ID**: The identifier for the query sequence.\n",
    "   - **BlastOutput_query-def**: The definition or description of the query sequence.\n",
    "   - **BlastOutput_query-len**: The length of the query sequence.\n",
    "   - **BlastOutput_param**: Parameters used for the BLAST search.\n",
    "\n",
    "2. **BlastOutput_iterations**: Contains one or more iterations of the BLAST search.\n",
    "   - **Iteration**: Represents a single iteration of the BLAST search.\n",
    "     - **Iteration_iter-num**: The iteration number.\n",
    "     - **Iteration_query-ID**: The identifier for the query sequence in this iteration.\n",
    "     - **Iteration_query-def**: The definition or description of the query sequence.\n",
    "     - **Iteration_query-len**: The length of the query sequence.\n",
    "     - **Iteration_hits**: Contains one or more hits (matches) found in the database.\n",
    "       - **Hit**: Represents a single hit.\n",
    "         - **Hit_num**: The hit number.\n",
    "         - **Hit_id**: The identifier for the hit sequence.\n",
    "         - **Hit_def**: The definition or description of the hit sequence.\n",
    "         - **Hit_accession**: The accession number of the hit sequence.\n",
    "         - **Hit_len**: The length of the hit sequence.\n",
    "         - **Hit_hsps**: Contains one or more HSPs (High-scoring Segment Pairs).\n",
    "           - **Hsp**: Represents a single HSP.\n",
    "             - **Hsp_num**: The HSP number.\n",
    "             - **Hsp_bit-score**: The bit score of the HSP.\n",
    "             - **Hsp_score**: The raw score of the HSP.\n",
    "             - **Hsp_evalue**: The E-value of the HSP.\n",
    "             - **Hsp_query-from**: The start position of the HSP in the query sequence.\n",
    "             - **Hsp_query-to**: The end position of the HSP in the query sequence.\n",
    "             - **Hsp_hit-from**: The start position of the HSP in the hit sequence.\n",
    "             - **Hsp_hit-to**: The end position of the HSP in the hit sequence.\n",
    "             - **Hsp_query-frame**: The reading frame of the query sequence.\n",
    "             - **Hsp_hit-frame**: The reading frame of the hit sequence.\n",
    "             - **Hsp_identity**: The number of identical matches in the HSP.\n",
    "             - **Hsp_positive**: The number of positive matches in the HSP.\n",
    "             - **Hsp_gaps**: The number of gaps in the HSP.\n",
    "             - **Hsp_align-len**: The length of the alignment.\n",
    "             - **Hsp_qseq**: The aligned part of the query sequence.\n",
    "             - **Hsp_hseq**: The aligned part of the hit sequence.\n",
    "             - **Hsp_midline**: The alignment midline showing matches, mismatches, and gaps.\n",
    "\n",
    "### Example BLAST XML\n",
    "\n",
    "To see an example, let's print the first 20 rows of the XML we just downloaded:\n"
   ]
  },
  {
   "cell_type": "code",
   "execution_count": 21,
   "id": "4165181b",
   "metadata": {},
   "outputs": [
    {
     "name": "stdout",
     "output_type": "stream",
     "text": [
      "<?xml version=\"1.0\" encoding=\"US-ASCII\"?>\n",
      "<!DOCTYPE BlastOutput PUBLIC \"-//NCBI//NCBI BlastOutput/EN\" \"http://www.ncbi.nlm.nih.gov/dtd/NCBI_BlastOutput.dtd\">\n",
      "<BlastOutput>\n",
      "  <BlastOutput_program>blastp</BlastOutput_program>\n",
      "  <BlastOutput_version>BLASTP 2.16.1+</BlastOutput_version>\n",
      "  <BlastOutput_reference>Stephen F. Altschul, Thomas L. Madden, Alejandro A. Sch&amp;auml;ffer, Jinghui Zhang, Zheng Zhang, Webb Miller, and David J. Lipman (1997), &quot;Gapped BLAST and PSI-BLAST: a new generation of protein database search programs&quot;, Nucleic Acids Res. 25:3389-3402.</BlastOutput_reference>\n",
      "  <BlastOutput_db>nr</BlastOutput_db>\n",
      "  <BlastOutput_query-ID>Query_4305375</BlastOutput_query-ID>\n",
      "  <BlastOutput_query-def>unnamed protein product</BlastOutput_query-def>\n",
      "  <BlastOutput_query-len>200</BlastOutput_query-len>\n",
      "  <BlastOutput_param>\n",
      "    <Parameters>\n",
      "      <Parameters_matrix>BLOSUM62</Parameters_matrix>\n",
      "      <Parameters_expect>10</Parameters_expect>\n",
      "      <Parameters_gap-open>11</Parameters_gap-open>\n",
      "      <Parameters_gap-extend>1</Parameters_gap-extend>\n",
      "      <Parameters_filter>F</Parameters_filter>\n",
      "    </Parameters>\n",
      "  </BlastOutput_param>\n",
      "<BlastOutput_iterations>\n"
     ]
    }
   ],
   "source": [
    "!head -n 20 \"proteinBLASTresult.xml\" "
   ]
  },
  {
   "cell_type": "markdown",
   "id": "dc802087",
   "metadata": {},
   "source": [
    "### Using command line tools to quickly manipulate BLAST XML files.\n",
    "Or, if we want to focus in on just a couple important aspects of the file, we can just grab those terms.  \n",
    "Accession Numbers:\n",
    " -   ```!echo \"proteinBLASTresult.xml\" | xargs grep \"<Hit_accession\" | head -n 10```\n",
    "Hit Scores\n",
    " -   ```!echo \"proteinBLASTresult.xml\" | xargs grep \"Hsp_score\" | head -n 10```\n",
    "Hit Evalues (significance of alignment match)\n",
    " -   ```!echo \"proteinBLASTresult.xml\" | xargs grep \"Hsp_evalue\" | head -n 10```\n",
    "\n",
    "In each of these:\n",
    "* ```echo \"proteinBLASTresult.xml\"``` is printing the contents of the file into memory\n",
    "* ```| xargs grep \"BLAH\"``` is piping the results into the ```grep``` function, which searches for lines that contain \"BLAH\"\n",
    "* ```| head -n 10``` is piping the results into the ```head``` function, which returns the first n=10 rows.\n",
    "\n",
    "Try it again but instead of piping into the head command, export (\">\") the result into a new text file:\n",
    " -   ```!echo \"proteinBLASTresult.xml\" | xargs grep \"<Hit_accession\" > dummy_file.txt``\n",
    "\n",
    "Or, better yet, trim the file to get rid of all but the accession numbers before exporting:\n",
    "-   ```!echo \"proteinBLASTresult.xml\" | xargs grep \"<Hit_accession\" | sed 's/.*>\\(.*\\)<.*/\\1/' > \"proteinBLASTresult_accessions.txt\"```"
   ]
  },
  {
   "cell_type": "code",
   "execution_count": 22,
   "id": "29e152a3",
   "metadata": {},
   "outputs": [
    {
     "name": "stdout",
     "output_type": "stream",
     "text": [
      "  <Hit_accession>URN79744</Hit_accession>\n",
      "  <Hit_accession>URN80001</Hit_accession>\n",
      "  <Hit_accession>URN79999</Hit_accession>\n",
      "  <Hit_accession>URN79939</Hit_accession>\n",
      "  <Hit_accession>UHB62636</Hit_accession>\n",
      "  <Hit_accession>QKV38604</Hit_accession>\n",
      "  <Hit_accession>7B62_A</Hit_accession>\n",
      "  <Hit_accession>7L2C_A</Hit_accession>\n",
      "  <Hit_accession>WVI77781</Hit_accession>\n",
      "  <Hit_accession>QRX28344</Hit_accession>\n"
     ]
    }
   ],
   "source": [
    "!echo \"proteinBLASTresult.xml\" | xargs grep \"<Hit_accession\" | head -n 10"
   ]
  },
  {
   "cell_type": "code",
   "execution_count": 23,
   "id": "0eade2ea",
   "metadata": {},
   "outputs": [
    {
     "name": "stdout",
     "output_type": "stream",
     "text": [
      "      <Hsp_score>1019</Hsp_score>\n",
      "      <Hsp_score>1021</Hsp_score>\n",
      "      <Hsp_score>1018</Hsp_score>\n",
      "      <Hsp_score>1017</Hsp_score>\n",
      "      <Hsp_score>1013</Hsp_score>\n",
      "      <Hsp_score>1020</Hsp_score>\n",
      "      <Hsp_score>1023</Hsp_score>\n",
      "      <Hsp_score>1023</Hsp_score>\n",
      "      <Hsp_score>1023</Hsp_score>\n",
      "      <Hsp_score>1021</Hsp_score>\n"
     ]
    }
   ],
   "source": [
    "!echo \"proteinBLASTresult.xml\" | xargs grep \"<Hsp_score\" | head -n 10"
   ]
  },
  {
   "cell_type": "code",
   "execution_count": 24,
   "id": "1120fa3c",
   "metadata": {},
   "outputs": [
    {
     "name": "stdout",
     "output_type": "stream",
     "text": [
      "      <Hsp_evalue>2.14312e-138</Hsp_evalue>\n",
      "      <Hsp_evalue>2.58465e-138</Hsp_evalue>\n",
      "      <Hsp_evalue>2.6035e-138</Hsp_evalue>\n",
      "      <Hsp_evalue>2.79284e-138</Hsp_evalue>\n",
      "      <Hsp_evalue>9.82853e-138</Hsp_evalue>\n",
      "      <Hsp_evalue>1.02309e-137</Hsp_evalue>\n",
      "      <Hsp_evalue>1.26145e-137</Hsp_evalue>\n",
      "      <Hsp_evalue>2.07528e-137</Hsp_evalue>\n",
      "      <Hsp_evalue>3.34612e-137</Hsp_evalue>\n",
      "      <Hsp_evalue>4.18214e-137</Hsp_evalue>\n"
     ]
    }
   ],
   "source": [
    "!echo \"proteinBLASTresult.xml\" | xargs grep \"Hsp_evalue\" | head -n 10"
   ]
  },
  {
   "cell_type": "markdown",
   "id": "f3df8381",
   "metadata": {},
   "source": [
    "Now that you know how to grab different pieces of the information out of the XML, you can quickly create truncated data sets for whatever purpose you need.\n",
    "\n",
    "For example, we can quickly write the FASTA file using a few simple commands:"
   ]
  },
  {
   "cell_type": "code",
   "execution_count": 27,
   "id": "799bf8ba",
   "metadata": {},
   "outputs": [
    {
     "name": "stderr",
     "output_type": "stream",
     "text": [
      "The filename, directory name, or volume label syntax is incorrect.\n",
      "The filename, directory name, or volume label syntax is incorrect.\n"
     ]
    },
    {
     "ename": "FileNotFoundError",
     "evalue": "[Errno 2] No such file or directory: 'proteinBLASTresult_accessions.txt'",
     "output_type": "error",
     "traceback": [
      "\u001b[1;31m---------------------------------------------------------------------------\u001b[0m",
      "\u001b[1;31mFileNotFoundError\u001b[0m                         Traceback (most recent call last)",
      "Cell \u001b[1;32mIn[27], line 10\u001b[0m\n\u001b[0;32m      8\u001b[0m \u001b[38;5;28;01mwith\u001b[39;00m \u001b[38;5;28mopen\u001b[39m(\u001b[38;5;124m\"\u001b[39m\u001b[38;5;124mproteinBLASTresult_combined.fa\u001b[39m\u001b[38;5;124m\"\u001b[39m,\u001b[38;5;124m\"\u001b[39m\u001b[38;5;124mw\u001b[39m\u001b[38;5;124m\"\u001b[39m) \u001b[38;5;28;01mas\u001b[39;00m combined:\n\u001b[0;32m      9\u001b[0m     combined\u001b[38;5;241m.\u001b[39mwrite(\u001b[38;5;124mf\u001b[39m\u001b[38;5;124m\"\u001b[39m\u001b[38;5;124m>Original\u001b[39m\u001b[38;5;130;01m\\n\u001b[39;00m\u001b[38;5;132;01m{\u001b[39;00mprotein_sequence\u001b[38;5;132;01m}\u001b[39;00m\u001b[38;5;130;01m\\n\u001b[39;00m\u001b[38;5;124m\"\u001b[39m)\n\u001b[1;32m---> 10\u001b[0m     \u001b[38;5;28;01mwith\u001b[39;00m \u001b[38;5;28;43mopen\u001b[39;49m\u001b[43m(\u001b[49m\u001b[38;5;124;43m\"\u001b[39;49m\u001b[38;5;124;43mproteinBLASTresult_accessions.txt\u001b[39;49m\u001b[38;5;124;43m\"\u001b[39;49m\u001b[43m)\u001b[49m \u001b[38;5;28;01mas\u001b[39;00m accessions, \u001b[38;5;28mopen\u001b[39m(\u001b[38;5;124m\"\u001b[39m\u001b[38;5;124mproteinBLASTresult_sequences.txt\u001b[39m\u001b[38;5;124m\"\u001b[39m) \u001b[38;5;28;01mas\u001b[39;00m sequences:\n\u001b[0;32m     11\u001b[0m         \u001b[38;5;28;01mfor\u001b[39;00m accession, sequence \u001b[38;5;129;01min\u001b[39;00m \u001b[38;5;28mzip\u001b[39m(accessions, sequences):\n\u001b[0;32m     12\u001b[0m             combined\u001b[38;5;241m.\u001b[39mwrite(\u001b[38;5;124mf\u001b[39m\u001b[38;5;124m\"\u001b[39m\u001b[38;5;124m>\u001b[39m\u001b[38;5;132;01m{\u001b[39;00maccession\u001b[38;5;132;01m}\u001b[39;00m\u001b[38;5;124m\"\u001b[39m)\n",
      "File \u001b[1;32mc:\\Users\\histe\\anaconda3\\envs\\BIOM480A5\\lib\\site-packages\\IPython\\core\\interactiveshell.py:324\u001b[0m, in \u001b[0;36m_modified_open\u001b[1;34m(file, *args, **kwargs)\u001b[0m\n\u001b[0;32m    317\u001b[0m \u001b[38;5;28;01mif\u001b[39;00m file \u001b[38;5;129;01min\u001b[39;00m {\u001b[38;5;241m0\u001b[39m, \u001b[38;5;241m1\u001b[39m, \u001b[38;5;241m2\u001b[39m}:\n\u001b[0;32m    318\u001b[0m     \u001b[38;5;28;01mraise\u001b[39;00m \u001b[38;5;167;01mValueError\u001b[39;00m(\n\u001b[0;32m    319\u001b[0m         \u001b[38;5;124mf\u001b[39m\u001b[38;5;124m\"\u001b[39m\u001b[38;5;124mIPython won\u001b[39m\u001b[38;5;124m'\u001b[39m\u001b[38;5;124mt let you open fd=\u001b[39m\u001b[38;5;132;01m{\u001b[39;00mfile\u001b[38;5;132;01m}\u001b[39;00m\u001b[38;5;124m by default \u001b[39m\u001b[38;5;124m\"\u001b[39m\n\u001b[0;32m    320\u001b[0m         \u001b[38;5;124m\"\u001b[39m\u001b[38;5;124mas it is likely to crash IPython. If you know what you are doing, \u001b[39m\u001b[38;5;124m\"\u001b[39m\n\u001b[0;32m    321\u001b[0m         \u001b[38;5;124m\"\u001b[39m\u001b[38;5;124myou can use builtins\u001b[39m\u001b[38;5;124m'\u001b[39m\u001b[38;5;124m open.\u001b[39m\u001b[38;5;124m\"\u001b[39m\n\u001b[0;32m    322\u001b[0m     )\n\u001b[1;32m--> 324\u001b[0m \u001b[38;5;28;01mreturn\u001b[39;00m io_open(file, \u001b[38;5;241m*\u001b[39margs, \u001b[38;5;241m*\u001b[39m\u001b[38;5;241m*\u001b[39mkwargs)\n",
      "\u001b[1;31mFileNotFoundError\u001b[0m: [Errno 2] No such file or directory: 'proteinBLASTresult_accessions.txt'"
     ]
    }
   ],
   "source": [
    "# Make file of all accession numbers\n",
    "!echo \"proteinBLASTresult.xml\" | xargs grep \"<Hit_accession\" | sed 's/.*>\\(.*\\)<.*/\\1/' > \"proteinBLASTresult_accessions.txt\"\n",
    "\n",
    "# Make file of all hit sequences\n",
    "!echo \"proteinBLASTresult.xml\" | xargs grep \"<Hsp_hseq\" | sed 's/.*>\\(.*\\)<.*/\\1/' > \"proteinBLASTresult_sequences.txt\"\n",
    "\n",
    "# Combine the two files into a single FASTA file\n",
    "with open(\"proteinBLASTresult_combined.fa\",\"w\") as combined:\n",
    "    combined.write(f\">Original\\n{protein_sequence}\\n\")\n",
    "    with open(\"proteinBLASTresult_accessions.txt\") as accessions, open(\"proteinBLASTresult_sequences.txt\") as sequences:\n",
    "        for accession, sequence in zip(accessions, sequences):\n",
    "            combined.write(f\">{accession}\")\n",
    "            combined.write(sequence)"
   ]
  },
  {
   "cell_type": "code",
   "execution_count": null,
   "id": "f7d0cee2",
   "metadata": {},
   "outputs": [],
   "source": [
    "# Let's use our command line code 'head' to see the first several lines of the FASTA file that we \n",
    "# created using the first approach earlier:\n",
    "!head \"proteinBLASTresult.fa\"\n",
    "\n",
    "# Let's use our command line code 'head' to see the first several lines of the FASTA file that we\n",
    "# created using the second approach with command line codes:\n",
    "print(\"\\n\")\n",
    "!head \"proteinBLASTresult_combined.fa\"\n",
    "\n",
    "# After running the code above, we can see that the two FASTA files are the essentially same, but the \n",
    "# second approach is more efficient and easier to change for different files.\n"
   ]
  },
  {
   "cell_type": "code",
   "execution_count": null,
   "id": "3d013837-4344-40d1-9c1f-ea5b75e6102a",
   "metadata": {
    "tags": []
   },
   "outputs": [],
   "source": [
    "# Now that we have a fasta file, we can run MUSCLE again to compute its alignment:\n",
    "alignedFile = \"blast_file_aligned.afa\"\n",
    "\n",
    "# Use a terminal command (bash) to run MUSCLE in to align the sequences.        \n",
    "bashCommand = \"muscle -align \" + blast_file_fasta + \" -output \" + alignedFile\n",
    "os.system(bashCommand)"
   ]
  },
  {
   "cell_type": "code",
   "execution_count": null,
   "id": "3cda7225",
   "metadata": {},
   "outputs": [],
   "source": [
    "# Make and save an alignment figure\n",
    "mv = MsaViz(alignedFile, wrap_length=100, show_count=True)\n",
    "mv.savefig(\"BLAST_Alignment.png\")\n",
    "\n",
    "# Load the image\n",
    "img = mpimg.imread('BLAST_Alignment.png')\n",
    "\n",
    "# Display the image\n",
    "fig = plt.figure(figsize=(80, 80), dpi=200)\n",
    "plt.imshow(img)\n",
    "plt.axis('off')  # Hide axis\n",
    "plt.show()"
   ]
  },
  {
   "cell_type": "markdown",
   "id": "2cc56acc-c6d2-46f3-97f5-b92253447410",
   "metadata": {},
   "source": [
    "# 3) Running BLAST in a background thread\n",
    "Often, we do not want to wait around until the blast call is complete.  For example, we may need to do this for a long list of sequences, or we might want to work on other tasks while we wait.  When this is the case, it can be helpful to run the code in the background on another thread.  As an example, the next cell shows an example where we run the BLAST on three different sequences all at the same time and in different threads.\n",
    "\n",
    "For the three sequences, we will just use different lengths of the original."
   ]
  },
  {
   "cell_type": "code",
   "execution_count": null,
   "id": "d0b23ea7-1e57-4d3a-9c16-a7962aa0a399",
   "metadata": {
    "tags": []
   },
   "outputs": [],
   "source": [
    "# Function to run a BLAST query and save the result to a file\n",
    "def run_blast_query_and_save(query_sequence, result_file):\n",
    "    result_handle = NCBIWWW.qblast(\"blastp\", \"nr\", query_sequence)\n",
    "    with open(result_file, \"w\") as out_handle:\n",
    "        out_handle.write(result_handle.read())\n",
    "    return\n",
    "\n",
    "def run_a_set_of_blast_searches(pMOD_list):\n",
    "    for idx, pMOD in enumerate(pMOD_list):\n",
    "        query_sequence = pMOD[:200]  # Extract the first 200 amino acids from the protein sequence\n",
    "        result_file = f\"blast_result_{idx + 1}.xml\"  # Generate a unique result file name\n",
    "        blast_thread = threading.Thread(target=run_blast_query_and_save, args=(query_sequence, result_file))\n",
    "        blast_thread.start()\n",
    "        print(\"Started BLAST Job: \" + result_file)\n",
    "    return\n",
    "        \n",
    "# Assuming pMOD_list contains multiple protein sequences\n",
    "pMOD_list = [protein_sequence, protein_sequence[25:175] , protein_sequence[50:150] ]  # Replace with your protein sequences\n",
    "\n",
    "# Call function to run BLAST queries for each protein sequence in a separate thread\n",
    "run_a_set_of_blast_searches(pMOD_list)"
   ]
  }
 ],
 "metadata": {
  "kernelspec": {
   "display_name": "BIOM480A5",
   "language": "python",
   "name": "python3"
  },
  "language_info": {
   "codemirror_mode": {
    "name": "ipython",
    "version": 3
   },
   "file_extension": ".py",
   "mimetype": "text/x-python",
   "name": "python",
   "nbconvert_exporter": "python",
   "pygments_lexer": "ipython3",
   "version": "3.10.16"
  },
  "toc": {
   "base_numbering": 1,
   "nav_menu": {},
   "number_sections": true,
   "sideBar": true,
   "skip_h1_title": false,
   "title_cell": "Table of Contents",
   "title_sidebar": "Contents",
   "toc_cell": false,
   "toc_position": {
    "height": "calc(100% - 180px)",
    "left": "10px",
    "top": "150px",
    "width": "448px"
   },
   "toc_section_display": true,
   "toc_window_display": true
  }
 },
 "nbformat": 4,
 "nbformat_minor": 5
}
