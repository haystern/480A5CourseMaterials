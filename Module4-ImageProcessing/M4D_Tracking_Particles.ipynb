{
  "cells": [
    {
      "cell_type": "markdown",
      "metadata": {
        "id": "C-bt4Mr2eSKe"
      },
      "source": [
        "<html>\n",
        "    <summary></summary>\n",
        "         <div> <p></p> </div>\n",
        "         <div style=\"font-size: 20px; width: 800px;\"> \n",
        "              <h1>\n",
        "               <left>Particle Tracking</left>\n",
        "              </h1>\n",
        "              <p><left>============================================================================</left> </p>\n",
        "<pre>Course: BIOM 480A5, Spring 2025\n",
        "Instructor: Brian Munsky\n",
        "Authors: Dr. Luis Aguilera, Dr. Zach Fox,  Brian Munsky\n",
        "Contact Info: munsky@colostate.edu\n",
        "</pre>\n",
        "         </div>\n",
        "    </p>\n",
        "\n",
        "</html>\n",
        "\n",
        "<details>\n",
        "  <summary>Copyright info</summary>\n",
        "\n",
        "```\n",
        "Copyright 2024 Brian Munsky\n",
        "\n",
        "Redistribution and use in source and binary forms, with or without modification, are permitted provided that the following conditions are met:\n",
        "\n",
        "1. Redistributions of source code must retain the above copyright notice, this list of conditions and the following disclaimer.\n",
        "\n",
        "2. Redistributions in binary form must reproduce the above copyright notice, this list of conditions and the following disclaimer in the documentation and/or other materials provided with the distribution.\n",
        "\n",
        "3. Neither the name of the copyright holder nor the names of its contributors may be used to endorse or promote products derived from this software without specific prior written permission.\n",
        "\n",
        "THIS SOFTWARE IS PROVIDED BY THE COPYRIGHT HOLDERS AND CONTRIBUTORS \"AS IS\" AND ANY EXPRESS OR IMPLIED WARRANTIES, INCLUDING, BUT NOT LIMITED TO, THE IMPLIED WARRANTIES OF MERCHANTABILITY AND FITNESS FOR A PARTICULAR PURPOSE ARE DISCLAIMED. IN NO EVENT SHALL THE COPYRIGHT HOLDER OR CONTRIBUTORS BE LIABLE FOR ANY DIRECT, INDIRECT, INCIDENTAL, SPECIAL, EXEMPLARY, OR CONSEQUENTIAL DAMAGES (INCLUDING, BUT NOT LIMITED TO, PROCUREMENT OF SUBSTITUTE GOODS OR SERVICES; LOSS OF USE, DATA, OR PROFITS; OR BUSINESS INTERRUPTION) HOWEVER CAUSED AND ON ANY THEORY OF LIABILITY, WHETHER IN CONTRACT, STRICT LIABILITY, OR TORT (INCLUDING NEGLIGENCE OR OTHERWISE) ARISING IN ANY WAY OUT OF THE USE OF THIS SOFTWARE, EVEN IF ADVISED OF THE POSSIBILITY OF SUCH DAMAGE.\n",
        "```\n",
        "<details>"
      ]
    },
    {
      "cell_type": "markdown",
      "metadata": {
        "id": "cqOm2bqOewqs"
      },
      "source": [
        "# Abstract\n",
        "\n",
        "This notebook provides an implementation of a i) 2D random walk simulator and ii) a particle tracking pipeline. At the end of the tutorial, the student is expected to acquire the computational skills to implement the following list of objectives independently.\n",
        "\n",
        "## List of objectives\n",
        "\n",
        "1.   Simulate 2D random walks.\n",
        "2.   Implement a code to track single particles.\n",
        "3.   Calculate mean square displacement and diffusion coefficients.\n",
        "\n",
        "4.   Use the scientific libraries needed to segment and track single molecules in live cells."
      ]
    },
    {
      "cell_type": "code",
      "execution_count": null,
      "metadata": {},
      "outputs": [],
      "source": [
        "# %pip install --upgrade  cellpose\n",
        "# os.environ['PYDEVD_DISABLE_FILE_VALIDATION'] = '1'\n",
        "from cellpose import plot, models\n",
        "# Note -- your kernel may crash when running this cell. \n",
        "# If it does, just restart the kernel and run this cell again."
      ]
    },
    {
      "cell_type": "code",
      "execution_count": null,
      "metadata": {
        "id": "GUXO3UYseTRw"
      },
      "outputs": [],
      "source": [
        "# Loading libraries\n",
        "import matplotlib.pyplot as plt                    # Library used for plotting\n",
        "from matplotlib import animation                   # Library to plot animations\n",
        "import numpy as np                                 # library for array manipulation\n",
        "import random                                      # Library to generate random numbers\n",
        "from random import randrange                       # Library to generate random numbers\n",
        "import math                                        # Library for math calculations\n",
        "from scipy.spatial import KDTree                   # Module to link trajectories\n",
        "import skimage                                     # Library for image manipulation\n",
        "from skimage.util import random_noise              # Module to add random noise to the image\n",
        "from skimage import measure                        # Module to find contours on images\n",
        "import skimage                                     # Library for image manipulation\n",
        "from skimage.io import imread                      # Module to read images\n",
        "from IPython.display import HTML                   # To display a mp4 video\n",
        "import ipywidgets as widgets                       # Library to plot widgets\n",
        "from ipywidgets import interact, interactive, HBox, Layout, VBox #  importing modules and functions.\n",
        "import urllib.request                              # importing library to download data\n",
        "import pandas as pd\n",
        "\n",
        "# ! pip install trackpy\n",
        "import trackpy as tp # Library for particle tracking\n",
        "\n",
        "# !pip install PyWavelets"
      ]
    },
    {
      "cell_type": "markdown",
      "metadata": {
        "id": "Ag-ZwZjTgpJI"
      },
      "source": [
        "# Particle Simulator"
      ]
    },
    {
      "cell_type": "markdown",
      "metadata": {
        "id": "-YZaY4VAiiTR"
      },
      "source": [
        "![alt text](FigsA/Module_1_3/Slide3.png)"
      ]
    },
    {
      "cell_type": "markdown",
      "metadata": {},
      "source": [
        "![alt text](FigsA/Module_1_3/Slide4.png)"
      ]
    },
    {
      "cell_type": "markdown",
      "metadata": {
        "id": "XrKlyjwh4ZPm"
      },
      "source": [
        "### Code for a 2-D random walk."
      ]
    },
    {
      "cell_type": "code",
      "execution_count": null,
      "metadata": {
        "id": "Wzl83_wzSRZf"
      },
      "outputs": [],
      "source": [
        "# Code for 2D random walk\n",
        "\n",
        "def generate_gaussian_at_position(img_size, position, size_spot = 9, spot_sigma = 2):\n",
        "  '''\n",
        "  This function is intended to create a 2-D Gaussian matrix at a given position.\n",
        "  Inputs:\n",
        "    img_size: list of two int, with format [x_size, y_size]. Units are pixels.\n",
        "    position: list of two int, with format [x_position, y_position]. Units are pixels.\n",
        "    size_spot: int, size of the spot to generate. Units are pixels.\n",
        "    spot_sigma: int, standard deviation of the Gaussian. Units are pixels.\n",
        "  Returns\n",
        "    kernel: numpy array with dimenssions [y_size, x_size]\n",
        "  '''\n",
        "  ## Function parameters.\n",
        "  ax = np.linspace(-(size_spot - 1) / 2., (size_spot - 1) / 2., size_spot)\n",
        "  posnRel = position - np.floor(position)\n",
        "  xx, yy = np.meshgrid(ax, ax)\n",
        "  kernel = np.exp(-0.5 * (np.square(xx-posnRel[1]) + np.square(yy-posnRel[0])) / np.square(spot_sigma))\n",
        "  kernel = (kernel / np.amax(kernel)) * 255\n",
        "  img = np.zeros((img_size[1], img_size[0]),dtype=np.uint8)\n",
        "  indsX = [int(position[1]-size_spot/2), int(position[1]+size_spot/2)]\n",
        "  indsY = [int(position[0]-size_spot/2), int(position[0]+size_spot/2)]\n",
        "  # print(kernel.shape, indsX, indsY, img.shape)\n",
        "  img[indsY[0]:indsY[1],indsX[0]:indsX[1]] = kernel\n",
        "  return img\n",
        "\n",
        "def brownian_movement_simulator(img_size = [100,100] ,num_time_points=10, number_spots = 20, diffusion_coeffient=1,percentage_background_noise=0):\n",
        "  '''\n",
        "  This function is intended to create spots and simulated brownian motion.\n",
        "  Inputs:\n",
        "    img_size: list of two int, with format [x_size, y_size]. Units are pixels.\n",
        "    num_time_points: int, number of time points to simulate\n",
        "    num_spots: int, number of spots to simulate.\n",
        "    diffusion_coeffient: float.\n",
        "\n",
        "  Returns\n",
        "    img_with_spots: numpy array with dimenssions [T,Y,X,C]\n",
        "  '''\n",
        "\n",
        "  ##### Step 1. Generating an empty image array\n",
        "  img = np.zeros((num_time_points, img_size[0], img_size[1], 1),dtype=np.uint8)\n",
        "  \n",
        "  ## Function parameters.\n",
        "  initial_points = np.zeros((number_spots,2))\n",
        "  size_x = img.shape[2]\n",
        "  size_y = img.shape[1]\n",
        "  step_size = 1\n",
        "  num_time_points = img.shape[0]\n",
        "  min_space_to_avoid_edges = 5 # minimal number of pixels closer to a border\n",
        "  size_spot = 9\n",
        "  spot_sigma = 2\n",
        "  num_dimensions = 2\n",
        "\n",
        "  ##### Step 2. Replacing \"\"Particles\"\" as a 2-D Gaussian matrix\n",
        "  ax = np.linspace(-(size_spot - 1) / 2., (size_spot - 1) / 2., size_spot)\n",
        "  xx, yy = np.meshgrid(ax, ax)\n",
        "  kernel = np.exp(-0.5 * (np.square(xx) + np.square(yy)) / np.square(spot_sigma))\n",
        "  kernel = (kernel / np.amax(kernel)) * 255\n",
        "\n",
        "  ##### Step 3. Generating initial positions\n",
        "  for i in range (0,number_spots):\n",
        "    initial_points[i,:] = [randrange(min_space_to_avoid_edges,size_x-min_space_to_avoid_edges), randrange(min_space_to_avoid_edges,size_y-min_space_to_avoid_edges)]\n",
        "  \n",
        "  ## Brownian motion\n",
        "  brownian_movement = math.sqrt(2*diffusion_coeffient*step_size) # Scaling factor for Brownian motion.\n",
        "  \n",
        "  # Prealocating memory\n",
        "  x_positions = np.array(initial_points[:,0]) #  x_position for selected spots inside the image\n",
        "  y_positions = np.array(initial_points[:,1]) #  y_position for selected spots inside the image\n",
        "  spot_positions_movement = np.zeros((num_time_points,number_spots,2))\n",
        "  \n",
        "  # Temporal array with positions\n",
        "  temp_Position_y = np.zeros_like(y_positions)\n",
        "  temp_Position_x = np.zeros_like(x_positions)\n",
        "  \n",
        "  # Updated array with positions\n",
        "  newPosition_y = np.zeros_like(y_positions)\n",
        "  newPosition_x = np.zeros_like(x_positions)\n",
        "\n",
        "  ##### Step 4. Main loop that computes the random motion and new spot positions\n",
        "  for t_p in range(0,num_time_points):\n",
        "      for i_p in range (0, number_spots):\n",
        "          if t_p == 0:\n",
        "              temp_Position_y[i_p]= y_positions[i_p]\n",
        "              temp_Position_x[i_p]= x_positions[i_p]\n",
        "          else:\n",
        "              temp_Position_y[i_p]= newPosition_y[i_p] + (brownian_movement * np.random.randn())\n",
        "              temp_Position_x[i_p]= newPosition_x[i_p] + (brownian_movement * np.random.randn())\n",
        "          \n",
        "          # Test that spots are not going outside the image.\n",
        "          # If they do leave the region, make them return to their last position.\n",
        "          # Note !! - this simplification will cause unrealistic artiifacts for long simulation times or large D.\n",
        "          if temp_Position_y[i_p] < min_space_to_avoid_edges or temp_Position_y[i_p] > size_y-min_space_to_avoid_edges or temp_Position_x[i_p] < min_space_to_avoid_edges or temp_Position_x[i_p] > size_x-min_space_to_avoid_edges :\n",
        "              temp_Position_y[i_p]= newPosition_y[i_p]\n",
        "              temp_Position_x[i_p]= newPosition_x[i_p]\n",
        "          \n",
        "          # Updating positions\n",
        "          newPosition_y[i_p]= temp_Position_y[i_p]\n",
        "          newPosition_x[i_p]= temp_Position_x[i_p]\n",
        "      \n",
        "      # Final numpy array with all spots for all time points\n",
        "      spot_positions_movement [t_p,:,:]= np.vstack((newPosition_y, newPosition_x)).T\n",
        "  \n",
        "  # Replacing pixels where a spot should be located with a Gaussian matrix to represent the pointspread function.\n",
        "  img_with_spots = img.copy()\n",
        "  for t_p in range(0,num_time_points):\n",
        "    for i_p in range (0, number_spots):\n",
        "      center_position = spot_positions_movement[t_p,i_p,:]\n",
        "      # img_with_spots[t_p, center_position[0]-round(size_spot/2): center_position[0]+round(size_spot/2)+1 ,center_position[1]-round(size_spot/2): center_position[1]+round(size_spot/2)+1,0 ] = kernel\n",
        "      img_with_spots[t_p, :, :, 0] += generate_gaussian_at_position(img_size, center_position, size_spot, spot_sigma)\n",
        "\n",
        "  # Adding background noise\n",
        "  if percentage_background_noise != 0:\n",
        "    img_with_spots= random_noise(img_with_spots, mode='gaussian', mean=percentage_background_noise, var=percentage_background_noise/2) # converts to float\n",
        "    img_with_spots = np.array(255 * img_with_spots, dtype=np.uint8) # converting back to 8-bit\n",
        "  # Retuning a numpy array with the simulated data\n",
        "  return img_with_spots"
      ]
    },
    {
      "cell_type": "markdown",
      "metadata": {
        "id": "7rCXCn3MPz7Z"
      },
      "source": [
        "Additional implementations for a 2D random walk can be found in the following links [link 1](https://www.uio.no/studier/emner/matnat/fys/FYS2160/h17/simuleringsopgaver/virrevandrer_diffusjon.pdf) and [link 2](https://towardsdatascience.com/random-walks-with-python-8420981bc4bc)."
      ]
    },
    {
      "cell_type": "markdown",
      "metadata": {
        "id": "bWVaonwp_AwY"
      },
      "source": [
        "## Running the simulator"
      ]
    },
    {
      "cell_type": "code",
      "execution_count": null,
      "metadata": {
        "id": "2wESsnEGT5Lf"
      },
      "outputs": [],
      "source": [
        "# Running the 2D random walk simulator\n",
        "img_size =[300, 300]\n",
        "num_time_points = 50\n",
        "diffusion_coeffient = 5\n",
        "number_spots = 10\n",
        "percentage_background_noise = 0.01\n",
        "img_with_spots = brownian_movement_simulator(img_size =img_size,num_time_points=num_time_points, number_spots=number_spots, diffusion_coeffient =diffusion_coeffient, percentage_background_noise= percentage_background_noise)"
      ]
    },
    {
      "cell_type": "markdown",
      "metadata": {
        "id": "8uo15mtGXViM"
      },
      "source": [
        "### Plotting results as a video"
      ]
    },
    {
      "cell_type": "code",
      "execution_count": null,
      "metadata": {
        "cellView": "form",
        "id": "6foEB_L0SRe1"
      },
      "outputs": [],
      "source": [
        "#@title Particle movement video\n",
        "# Plotting spots as a video\n",
        "fig = plt.figure(figsize=(7,7))\n",
        "#Define inital frames\n",
        "im = plt.imshow(img_with_spots[0,:,:,0],cmap= 'Reds_r') # Reds_r\n",
        "#plt.axis('off')\n",
        "def movieFrame(i):\n",
        "  images = [img_with_spots[i,:,:,0]]\n",
        "  image_handles = [im]\n",
        "  for k, image_n in enumerate(images):\n",
        "    image_handles[k].set_array(images[k])\n",
        "  return image_handles\n",
        "plt.close()\n",
        "anim = animation.FuncAnimation(fig, movieFrame, frames=img_with_spots.shape[0], interval=50, blit=True)\n",
        "from IPython.display import HTML\n",
        "HTML(anim.to_html5_video())"
      ]
    },
    {
      "cell_type": "code",
      "execution_count": null,
      "metadata": {
        "id": "gp1P0KznQDyn"
      },
      "outputs": [],
      "source": [
        "# 3D-Visualization (X,Y, intensity)\n",
        "fig = plt.figure(dpi=120)\n",
        "ax1 = np.arange(0,img_with_spots.shape[1],1)\n",
        "xx, yy = np.meshgrid(ax1, ax1)\n",
        "ax_3D = plt.axes(projection='3d')\n",
        "ax_3D.plot_surface(xx, yy, img_with_spots[0,:,:,0], cmap='Reds')\n",
        "plt.show()"
      ]
    },
    {
      "cell_type": "markdown",
      "metadata": {
        "id": "uIDyqVohjR5G"
      },
      "source": [
        "# Particle Tracking Process"
      ]
    },
    {
      "cell_type": "markdown",
      "metadata": {
        "id": "N-KJap2IjT_f"
      },
      "source": [
        "![alt text](FigsA/Module_1_3/Slide5.png)"
      ]
    },
    {
      "cell_type": "markdown",
      "metadata": {
        "id": "5h0ZnEpkNbKT"
      },
      "source": [
        "## Particle detection"
      ]
    },
    {
      "cell_type": "markdown",
      "metadata": {
        "id": "Zp3ohUGZfG58"
      },
      "source": [
        "### Binarization"
      ]
    },
    {
      "cell_type": "code",
      "execution_count": null,
      "metadata": {
        "id": "i5lzc4iwuhp4"
      },
      "outputs": [],
      "source": [
        "threshold = 100  # Values in range [0, 255]"
      ]
    },
    {
      "cell_type": "code",
      "execution_count": null,
      "metadata": {
        "id": "DE-Jvx28Ygs1"
      },
      "outputs": [],
      "source": [
        "# Define an intensity treshold\n",
        "selected_time_point = 1\n",
        "img_tracking = img_with_spots.copy() # copy of the image.\n",
        "slected_tp_img = img_tracking[selected_time_point,:,:,0] # selecting a time point\n",
        "\n",
        "## Image binarization\n",
        "# Making spots above the threshold equal to 255. The maximum value in a 8-bit image.\n",
        "slected_tp_img[slected_tp_img>threshold] = 255\n",
        "# Making spots below the treshold equal to 0.\n",
        "slected_tp_img[slected_tp_img<threshold] = 0\n",
        "# Binarization\n",
        "slected_tp_img[slected_tp_img!=0] = 1"
      ]
    },
    {
      "cell_type": "code",
      "execution_count": null,
      "metadata": {
        "id": "Pr74tj6K52-8"
      },
      "outputs": [],
      "source": [
        "# Plotting\n",
        "fig, ax = plt.subplots(1,2, figsize=(15, 5))\n",
        "ax[0].imshow(img_with_spots[selected_time_point,:,:,0],cmap='Greens_r')\n",
        "ax[0].set_title('Simulated spots')\n",
        "ax[1].imshow(slected_tp_img,cmap='Greys_r')\n",
        "ax[1].set_title('Binary image with pixels above treshold')\n",
        "plt.show()"
      ]
    },
    {
      "cell_type": "code",
      "execution_count": null,
      "metadata": {
        "id": "AJy4GXVdBbrA"
      },
      "outputs": [],
      "source": [
        "# Joining pixels in \"particles\"\n",
        "contours = measure.find_contours(slected_tp_img, 0.5)\n",
        "# Display the image and plot all contours found\n",
        "fig, ax = plt.subplots(figsize=(5, 5))\n",
        "ax.imshow(slected_tp_img, cmap=plt.cm.gray)\n",
        "for contour in contours:\n",
        "    ax.plot(contour[:, 1], contour[:, 0], linewidth=2)"
      ]
    },
    {
      "cell_type": "markdown",
      "metadata": {
        "id": "65Edkx-yfLoE"
      },
      "source": [
        "### Detecting particles (center of mass) for all frames"
      ]
    },
    {
      "cell_type": "code",
      "execution_count": null,
      "metadata": {
        "cellView": "form",
        "id": "cJzgejnoH6Tq"
      },
      "outputs": [],
      "source": [
        "# Function for a particle detector\n",
        "def particle_detector(img,threshold):\n",
        "  '''\n",
        "  This function is intended to detect spots above a given threshold.\n",
        "  Inputs:\n",
        "    img: numpy array with dimenssions [T,Y,X,C]\n",
        "    threshold: float.\n",
        "\n",
        "  Returns\n",
        "    list_all_time_point_center_mass: list of centers of mass for each time point.  [ [ cm_particle_0_tp_0, ..., cm_particle_n_tp_0], ... , [ cm_particle_0_tp_n, ..., cm_particle_n_tp_n] ]\n",
        "  '''\n",
        "  img_tracking = img.copy() # copy of the image.\n",
        "  num_time_points = img_tracking.shape[0]\n",
        "  list_all_time_point_center_mass  =[]\n",
        "  \n",
        "  # Loop through all time points\n",
        "  for i in range (num_time_points):\n",
        "    \n",
        "    list_center_mass = []\n",
        "    slected_tp_img = img_tracking[i,:,:,0] # selecting a time point\n",
        "    \n",
        "    # Making spots above the threshold equal to 255.\n",
        "    slected_tp_img[slected_tp_img>threshold] = 255\n",
        "    \n",
        "    # Making spots below the threshold equal to 0.\n",
        "    slected_tp_img[slected_tp_img<threshold] = 0\n",
        "    \n",
        "    # Binarization\n",
        "    slected_tp_img[slected_tp_img!=0] = 1\n",
        "    \n",
        "    # Joining pixels and deffining particles\n",
        "    contours = measure.find_contours(slected_tp_img)\n",
        "    \n",
        "    # Calculating the center of each particle\n",
        "    for contour in contours:\n",
        "      center_mass = np.mean(contour, axis = 0)\n",
        "      list_center_mass.append(center_mass)\n",
        "    \n",
        "    # Saving results as a list of centers of mass for each time point.  [ [ cm_particle_0_tp_0, ..., cm_particle_n_tp_0], ... , [ cm_particle_0_tp_n, ..., cm_particle_n_tp_n] ]\n",
        "    list_all_time_point_center_mass.append(list_center_mass)\n",
        "  \n",
        "  return list_all_time_point_center_mass"
      ]
    },
    {
      "cell_type": "code",
      "execution_count": null,
      "metadata": {
        "id": "0sLOAhbVGPav"
      },
      "outputs": [],
      "source": [
        "list_all_time_point_center_mass = particle_detector(img_with_spots,threshold=100)"
      ]
    },
    {
      "cell_type": "code",
      "execution_count": null,
      "metadata": {
        "id": "h4FdIhLmzTPk"
      },
      "outputs": [],
      "source": [
        "# List containing [Y,X] positions for the center of mass for each particle.\n",
        "list_all_time_point_center_mass[1] # Selecting a time point"
      ]
    },
    {
      "cell_type": "code",
      "execution_count": null,
      "metadata": {
        "id": "IMIna_05A3xP"
      },
      "outputs": [],
      "source": [
        "# Plotting center of mass of each particle\n",
        "fig, ax = plt.subplots(figsize=(5, 5))\n",
        "ax.imshow(img_with_spots[selected_time_point,:,:,0], cmap=plt.cm.gray)\n",
        "for i in range(0,len(list_all_time_point_center_mass[selected_time_point])):\n",
        "  ax.plot(list_all_time_point_center_mass[selected_time_point][i][1], list_all_time_point_center_mass[selected_time_point][i][0], color='r',marker='*')\n",
        "plt.show()"
      ]
    },
    {
      "cell_type": "markdown",
      "metadata": {
        "id": "Otfr4HADg12q"
      },
      "source": [
        "## Linking trajectories"
      ]
    },
    {
      "cell_type": "code",
      "execution_count": null,
      "metadata": {
        "id": "UM3CoG0cBvr6"
      },
      "outputs": [],
      "source": [
        "#@title Function to link spots\n",
        "\n",
        "def linking_spots(list_center_mass):\n",
        "  '''\n",
        "  This function is intended to link trajectories given a list of centers of mass.\n",
        "  Inputs:\n",
        "    list_center_mass: list of centers of mass for each time point.  [ [ cm_particle_0_tp_0, ..., cm_particle_n_tp_0], ... , [ cm_particle_0_tp_n, ..., cm_particle_n_tp_n] ]\n",
        "\n",
        "  Returns\n",
        "    list_trajectories: list of connected coordinates for all particles and all time points.\n",
        "    [\n",
        "    [ [Y_val_particle_0_tp_0, X_val_particle_0_tp_0]   , ... , [Y_val_particle_n_tp_0, X_val_particle_n_tp_0] ]\n",
        "    ...\n",
        "    [ [Y_val_particle_0_tp_n, X_val_particle_0_tp_n]   , ... , [Y_val_particle_n_tp_n, X_val_particle_n_tp_n] ]\n",
        "    ]\n",
        "  '''\n",
        "  def get_points_on_frame(i):\n",
        "      # Sub-function to convert each  element  in the list into a numpy array\n",
        "      return np.array(list_center_mass[i])\n",
        "\n",
        "  # Look for the nearest point slice by slice:\n",
        "  number_frames = len (list_center_mass)\n",
        "  start_positions = np.array(list_center_mass[0])\n",
        "\n",
        "  ###### STEP 1 #########\n",
        "  # FOR EVERY FRAME WE DETECTED THE PARTICLES IN THE SYSTEM\n",
        "  # WE GIVE AN INDEX TO EACH PARTICLE IN EVERY FRAME\n",
        "  # ARRAY ROW = FRAME COL = PARTICLE_INDEX\n",
        "  idx_nearest_trajectories = np.arange(start_positions.shape[0]).reshape(1, -1) # 1D vector with the size of the number of particles\n",
        "  # Loop for all frames\n",
        "  for i in range(1, number_frames):\n",
        "      # This class provides an index into a set of k-dimensional points which can be used to rapidly look up the nearest neighbors of any point.\n",
        "      # help(KDTree)\n",
        "      # help(KDTree.query)\n",
        "      get_nearest = KDTree(get_points_on_frame(i))\n",
        "      previous_points = get_points_on_frame(i-1)[idx_nearest_trajectories[-1, :]]\n",
        "      # Returns the distances and index to the nearest neighbors.\n",
        "      distance, idx_nearest = get_nearest.query(previous_points)\n",
        "      # concatenate the idx_nearest_trajectories for every frame\n",
        "      idx_nearest_trajectories = np.vstack((idx_nearest_trajectories, idx_nearest))\n",
        "  #print('List of particle_index vs frame  \\n', idx_nearest_trajectories)\n",
        "\n",
        "  ###### STEP 2 #########\n",
        "  # Converting array with particle_indexes to coordinates\n",
        "  # indexing the list_center_mass using idx_nearest_trajectories\n",
        "  list_trajectories =[]\n",
        "  for path_idx in idx_nearest_trajectories.T:\n",
        "    path_coords = [list_center_mass[i][idx] for i, idx in enumerate(path_idx)]\n",
        "    list_trajectories.append(path_coords)\n",
        "  return list_trajectories"
      ]
    },
    {
      "cell_type": "code",
      "execution_count": null,
      "metadata": {
        "id": "EbDSxO3djNeI"
      },
      "outputs": [],
      "source": [
        "# Linking the center of mass for each particle in all frames\n",
        "list_trajectories_short = linking_spots (list_all_time_point_center_mass)"
      ]
    },
    {
      "cell_type": "code",
      "execution_count": null,
      "metadata": {
        "id": "kxqAsl9Y8V10"
      },
      "outputs": [],
      "source": [
        "list_trajectories_short[1]  # particle trajectory"
      ]
    },
    {
      "cell_type": "code",
      "execution_count": null,
      "metadata": {
        "id": "HmmPzMe8n2Iy"
      },
      "outputs": [],
      "source": [
        "# Plotting the trajectory for the first particle in the system\n",
        "plt.plot(list_trajectories_short[0][0][0], list_trajectories_short[0][0][1]  , 'ko', markersize=10) # stating position    [particle][Frame][X],[particle][Frame][Y]\n",
        "plt.plot(*zip(*list_trajectories_short[0]), '-r', linewidth=2)\n",
        "plt.plot(list_trajectories_short[0][-1][0], list_trajectories_short[0][-1][1]  , 'k*', markersize=10) # ending position    [particle][Frame][X],[particle][Frame][Y]\n",
        "plt.show()"
      ]
    },
    {
      "cell_type": "markdown",
      "metadata": {
        "id": "yJxM3jYKoLtq"
      },
      "source": [
        "What is the [Star Operator](https://www.tutorialspoint.com/What-does-the-Star-operator-mean-in-Python) doing in the previous block of code?\n",
        "\n",
        "The star operator is used to unpack the values of a list or tuple. In the context of the code, it is used to unpack the values of the `x` and `y` coordinates of the detected particles in the `link_particles` function."
      ]
    },
    {
      "cell_type": "code",
      "execution_count": null,
      "metadata": {
        "id": "pCgshSomjNsr"
      },
      "outputs": [],
      "source": [
        "# Plotting individual trajectories history.\n",
        "plt.figure(figsize=(6, 6))\n",
        "for i in range(0, len(list_trajectories_short)):\n",
        "    plt.plot(*zip(*list_trajectories_short[i]), '-', linewidth=2)\n",
        "plt.xlim([0, img_size[1]])\n",
        "plt.ylim([img_size[0], 0])   # Notice that we are reversing the order in the Y-axis\n",
        "plt.show()"
      ]
    },
    {
      "cell_type": "code",
      "execution_count": null,
      "metadata": {},
      "outputs": [],
      "source": [
        "# Make a movie of the original, but now add squares over the tracked particles.\n",
        "\n",
        "# Plotting spots as a video\n",
        "\n",
        "fig, ax = plt.subplots(figsize=(7,7))\n",
        "\n",
        "def movieFrame(i):\n",
        "  ax.clear()\n",
        "  ax.imshow(img_with_spots[i,:,:,0],cmap= 'gray')\n",
        "\n",
        "  for iParticle in range(len(list_trajectories_short)):\n",
        "      x_val = [x[1] for x in list_trajectories_short[iParticle][:i]]\n",
        "      y_val = [x[0] for x in list_trajectories_short[iParticle][:i]]\n",
        "      if len(x_val)>=1:\n",
        "        # Add a circle over the detected spot\n",
        "        ax.plot(x_val[-1],y_val[-1], 'o', linewidth = 1, markersize=8, color='y', alpha=0.25)\n",
        "        \n",
        "        # Add a line to show the trajectory of the spot.\n",
        "        ax.plot(x_val,y_val, linewidth = 2, alpha=0.75)\n",
        "\n",
        "  return [fig]\n",
        "\n",
        "plt.close()\n",
        "anim = animation.FuncAnimation(fig, movieFrame, frames=img_with_spots.shape[0], interval=50, blit=True)\n",
        "\n",
        "from IPython.display import HTML\n",
        "HTML(anim.to_html5_video())"
      ]
    },
    {
      "cell_type": "markdown",
      "metadata": {
        "id": "mtB6wXgjfg9c"
      },
      "source": [
        "# Calculating the Mean Square Displacement (MSD)"
      ]
    },
    {
      "cell_type": "markdown",
      "metadata": {
        "id": "3OVwMn9TIBnQ"
      },
      "source": [
        "MSD is a metric to calculate the average movement of particles with respect to time. [MSD formal definition](https://en.wikipedia.org/wiki/Mean_squared_displacement)."
      ]
    },
    {
      "cell_type": "markdown",
      "metadata": {
        "id": "V-mqIpwQKqsc"
      },
      "source": [
        "${\\rm MSD}=\\frac{1}{N}\\sum_{i=1}^N |\\mathbf{x^{(i)}}(t) - \\mathbf{x^{(i)}}(0)|^2 $"
      ]
    },
    {
      "cell_type": "markdown",
      "metadata": {
        "id": "gvVRNjX9Kr2W"
      },
      "source": [
        "where $N$ is the number of particles, $\\mathbf{x^{(i)}}(0)$ is the reference position of the $i^{th}$ particle, and $\\mathbf{x^{(i)}}(t)$ is the position of the $i^{th}$ particle at time $t$."
      ]
    },
    {
      "cell_type": "markdown",
      "metadata": {
        "id": "j9xGiisGzVUn"
      },
      "source": [
        "## What kind of movement my system has?\n",
        "\n",
        "\n"
      ]
    },
    {
      "cell_type": "markdown",
      "metadata": {
        "id": "Cx85h9xw3Co_"
      },
      "source": [
        "In a random motion process, there is a linear relationship between the MSD and time $t$. [Link with the derivation of this formula](https://en.wikipedia.org/wiki/Mean_squared_displacement).\n",
        "\n",
        "$MSD= 2nDt$,\n",
        "\n",
        "where $n$ is the number of dimensions,  $D$ is the  diffusion coefficient,\n",
        "\n",
        "$D= \\frac{k_B \\cdot T}{6 \\pi \\eta r}$ (Einstein-Stokes equation)\n",
        "\n",
        "*   Proportional to: $k_B$ Boltzman constant, $T$ absolute temperature\n",
        "*   Inversely Proportional: $\\eta$ is the viscocity, $r$ particle radius.\n"
      ]
    },
    {
      "cell_type": "markdown",
      "metadata": {
        "id": "hxNUfjmGjePR"
      },
      "source": [
        "![alt text](FigsA/Module_1_3/Slide6.png)"
      ]
    },
    {
      "cell_type": "markdown",
      "metadata": {
        "id": "W_wLqKnc2t9b"
      },
      "source": [
        "Addtional [image](https://en.wikipedia.org/wiki/Anomalous_diffusion#/media/File:Msd_anomalous_diffusion.svg) with anomalous diffusion."
      ]
    },
    {
      "cell_type": "code",
      "execution_count": null,
      "metadata": {
        "cellView": "form",
        "id": "7jUGvKPL-XaS"
      },
      "outputs": [],
      "source": [
        "# Function to calculate msd\n",
        "def compute_msd(trajectory):\n",
        "  '''\n",
        "  This function is intended to calculate the mean square displacement of a given trajectory.\n",
        "  msd(τ)  = <[r(t+τ) - r(t)]^2>\n",
        "  Inputs:\n",
        "    trajectory: list of temporal evolution of a centers of mass .  [Y_val_particle_i_tp_0, X_val_particle_i_tp_0]   , ... , [Y_val_particle_i_tp_n, X_val_particle_i_tp_n] ]\n",
        "\n",
        "  Returns\n",
        "    msd: float, mean square displacement\n",
        "    rmsd: float, root mean square displacement\n",
        "  '''\n",
        "  total_length_trajectory=len(trajectory)\n",
        "  msd=[]\n",
        "  for i in range(total_length_trajectory-1):\n",
        "      tau=i+1\n",
        "      # Distance that a particle moves for each time point (tau) divided by time\n",
        "      # msd(τ)                 = <[r(t+τ)  -    r(t)]^2>\n",
        "      msd.append(np.sum((trajectory[0:-tau]-trajectory[tau::])**2)/float(total_length_trajectory-tau)) # Reverse Indexing\n",
        "  # Converting list to np.array\n",
        "  msd=np.array(msd)   # array with shape Nspots vs time_points\n",
        "  rmsd = np.sqrt(msd)\n",
        "  return msd, rmsd"
      ]
    },
    {
      "cell_type": "markdown",
      "metadata": {
        "id": "4J0-z6bPsE00"
      },
      "source": [
        "Useful links to implement msd [link with code implementation](https://stackoverflow.com/questions/53443486/calculating-mean-square-displacement-for-a-single-particle-in-1d)  and [paper](https://web.mit.edu/savin/Public/.Tutorial_v1.2/Introduction.html)."
      ]
    },
    {
      "cell_type": "code",
      "execution_count": null,
      "metadata": {
        "id": "mP_LBNvuf0L-"
      },
      "outputs": [],
      "source": [
        "# Running the 2D random walk simulator\n",
        "img_size_kd =[1000, 1000]\n",
        "num_time_points = 40\n",
        "diffusion_coeffient = 0.5\n",
        "percentage_background_noise = 0\n",
        "number_spots = 200\n",
        "img_with_spots_kd = brownian_movement_simulator(img_size =img_size_kd,num_time_points=num_time_points, number_spots=number_spots, diffusion_coeffient =diffusion_coeffient, percentage_background_noise= percentage_background_noise)"
      ]
    },
    {
      "cell_type": "code",
      "execution_count": null,
      "metadata": {
        "id": "-R58ugkmhZMj"
      },
      "outputs": [],
      "source": [
        "# Detecting particles\n",
        "list_center_mass_kd = particle_detector(img_with_spots_kd,threshold=180)\n",
        "\n",
        "# Linking trajectories\n",
        "list_trajectories_kd = linking_spots (list_center_mass_kd)\n",
        "num_trajectories = len(list_trajectories_kd)"
      ]
    },
    {
      "cell_type": "code",
      "execution_count": null,
      "metadata": {
        "id": "Abe8bwNEW_pV"
      },
      "outputs": [],
      "source": [
        "# Calculating the MSD\n",
        "t=np.arange(1,num_time_points,1)\n",
        "msd_trajectories = np.zeros((num_trajectories,num_time_points-1))\n",
        "rmsd_trajectories = np.zeros((num_trajectories,num_time_points-1))\n",
        "for i in range(0,num_trajectories):\n",
        "  msd_trajectories[i,:], rmsd_trajectories[i,:] = compute_msd(np.array(list_trajectories_kd[i]))"
      ]
    },
    {
      "cell_type": "code",
      "execution_count": null,
      "metadata": {},
      "outputs": [],
      "source": [
        "list_trajectories_kd[0][0]"
      ]
    },
    {
      "cell_type": "code",
      "execution_count": null,
      "metadata": {
        "id": "bVTGbZ2Uu8oA"
      },
      "outputs": [],
      "source": [
        "# Plotting the MSD for every particle in  the simulation\n",
        "for i in range(0,num_trajectories):\n",
        "  plt.plot(msd_trajectories[i,:],'-',color=[0.5,0.5,0.5])\n",
        "plt.show()"
      ]
    },
    {
      "cell_type": "code",
      "execution_count": null,
      "metadata": {
        "id": "EcJK2OUXaikZ"
      },
      "outputs": [],
      "source": [
        "# MSD Statistics (mu, sigma) for all trajectories.\n",
        "msd_trajectories_all_mu = np.mean(msd_trajectories,axis=0)\n",
        "msd_trajectories_all_sem = np.std(msd_trajectories,axis=0) /np.sqrt(num_trajectories)"
      ]
    },
    {
      "cell_type": "code",
      "execution_count": null,
      "metadata": {
        "id": "xdbVMz7VQJ0f"
      },
      "outputs": [],
      "source": [
        "# MSD calculated from fromula\n",
        "n_dimens = 2\n",
        "msd_formula = 2*n_dimens*diffusion_coeffient*t"
      ]
    },
    {
      "cell_type": "code",
      "execution_count": null,
      "metadata": {
        "id": "nMKStXUgXknX"
      },
      "outputs": [],
      "source": [
        "# Plotting the MSD vs Time\n",
        "downsampling = 3\n",
        "plt.figure(figsize=(7, 5))\n",
        "for i in range(0,num_trajectories):\n",
        "  plt.plot(msd_trajectories[i,:],'-',color=[0.8,0.8,0.8])\n",
        "plt.errorbar(t[::downsampling], msd_trajectories_all_mu[::downsampling],  yerr=msd_trajectories_all_sem[::downsampling],ecolor='blue',linestyle='')\n",
        "plt.plot(t[::downsampling], msd_trajectories_all_mu[::downsampling], marker='o', markersize=12, linestyle='none',color='blue',label ='simulation' )\n",
        "plt.plot(t, msd_formula, color='red', linewidth=4,label ='msd_formula 2nDt')\n",
        "plt.legend()\n",
        "plt.title('Mean square displacement')\n",
        "plt.ylabel('MSD (au)')\n",
        "plt.xlabel('Time (au)')\n",
        "plt.ylim(0,150)\n",
        "plt.show()"
      ]
    },
    {
      "cell_type": "markdown",
      "metadata": {
        "id": "iYvRUJyh5XXg"
      },
      "source": [
        "## In the following widget move the slider bar to increase/decrease the value of the Diffusion coefficient (D) in the simulation. \n",
        "\n",
        "Discuss why the apparrent value for the diffusion constant is innaccurate when the rate is too fast or too small."
      ]
    },
    {
      "cell_type": "code",
      "execution_count": null,
      "metadata": {
        "cellView": "form",
        "id": "T6tcgrBGwXxi"
      },
      "outputs": [],
      "source": [
        "# Plotting the msd as function of time for multiple $D$\n",
        "\n",
        "plt.rcParams[\"figure.figsize\"] = (5,5) # if movie is too big, change size to (7,7)\n",
        "\n",
        "def figure_viewer(log10_diffusion_coeffient=0):\n",
        "    # Running the 2D random walk simulator\n",
        "    img_size_kd =[1000, 1000]\n",
        "    num_time_points = 100\n",
        "    percentage_background_noise = 0\n",
        "    number_spots = 100\n",
        "\n",
        "    diffusion_coeffient = 10**log10_diffusion_coeffient\n",
        "    \n",
        "    # Generating images\n",
        "    img_with_spots_kd = brownian_movement_simulator(img_size =img_size_kd,num_time_points=num_time_points, number_spots=number_spots, diffusion_coeffient =diffusion_coeffient, percentage_background_noise= percentage_background_noise)\n",
        "    \n",
        "    # Detecting particles\n",
        "    list_center_mass_kd = particle_detector(img_with_spots_kd,threshold=180)\n",
        "    \n",
        "    # Linking trajectories\n",
        "    list_trajectories_kd = linking_spots (list_center_mass_kd)\n",
        "    num_trajectories = len(list_trajectories_kd)\n",
        "    \n",
        "    # Calculating the MSD\n",
        "    t=np.arange(1,num_time_points,1)\n",
        "    msd_trajectories = np.zeros((num_trajectories,num_time_points-1))\n",
        "    rmsd_trajectories = np.zeros((num_trajectories,num_time_points-1))\n",
        "    for i in range(0,num_trajectories):\n",
        "      msd_trajectories[i,:], rmsd_trajectories[i,:] = compute_msd(np.array(list_trajectories_kd[i]))\n",
        "    \n",
        "    # MSD Statistics (mu, sigma) for all trajectories.\n",
        "    msd_trajectories_all_mu = np.mean(msd_trajectories,axis=0)\n",
        "    msd_trajectories_all_sem = np.std(msd_trajectories,axis=0) /np.sqrt(num_trajectories)\n",
        "    \n",
        "    # MSD calculated from fromula\n",
        "    msd_formula = 2*n_dimens*diffusion_coeffient*t\n",
        "    \n",
        "    # Plotting the MSD vs Time\n",
        "    down_sampling = 3\n",
        "    plt.errorbar(t[::down_sampling], msd_trajectories_all_mu[::down_sampling],  yerr=msd_trajectories_all_sem[::down_sampling],ecolor='grey',linestyle='')\n",
        "    plt.plot(t[::down_sampling], msd_trajectories_all_mu[::down_sampling], marker='o', markersize=12, linestyle='none',color='grey',label ='simulation' )\n",
        "    plt.plot(t, msd_formula, color='red', linewidth=4,label ='msd_formula')\n",
        "    plt.legend()\n",
        "    plt.title('Mean square displacement')\n",
        "    plt.ylabel('MSD (au)')\n",
        "    plt.xlabel('Time (au)')\n",
        "    plt.show()\n",
        "\n",
        "interactive_plot = interactive(figure_viewer,log10_diffusion_coeffient = widgets.FloatSlider(min=-3,max=3,step=0.25,value=0,description='log10(D)'),continuous_update=False)\n",
        "controls = HBox(interactive_plot.children[:-1], layout = Layout(flex_flow='row wrap'))\n",
        "output = interactive_plot.children[-1]\n",
        "display(VBox([controls, output]))"
      ]
    },
    {
      "cell_type": "markdown",
      "metadata": {
        "id": "FAcUo_eDGauW"
      },
      "source": [
        "## Visualizing when the movement in the simulation is not random."
      ]
    },
    {
      "cell_type": "code",
      "execution_count": null,
      "metadata": {
        "id": "T1-pGycbGCi9"
      },
      "outputs": [],
      "source": [
        "# Running the 2D random walk simulator\n",
        "img_size =[400, 400]\n",
        "num_time_points = 50\n",
        "diffusion_coeffient = 0.0001\n",
        "number_spots = 10\n",
        "percentage_background_noise = 0.01\n",
        "img_with_spots = brownian_movement_simulator(img_size =img_size,num_time_points=num_time_points, number_spots=number_spots, diffusion_coeffient =diffusion_coeffient, percentage_background_noise= percentage_background_noise)"
      ]
    },
    {
      "cell_type": "code",
      "execution_count": null,
      "metadata": {
        "cellView": "form",
        "id": "nMjmbn1TGUqm"
      },
      "outputs": [],
      "source": [
        "# Particle movement video\n",
        "# Plotting spots as a video\n",
        "fig = plt.figure(figsize=(7,7))\n",
        "#Define inital frames\n",
        "im = plt.imshow(img_with_spots[0,:,:,0],cmap= 'Reds_r') # Reds_r\n",
        "#plt.axis('off')\n",
        "def movieFrame(i):\n",
        "  images = [img_with_spots[i,:,:,0]]\n",
        "  image_handles = [im]\n",
        "  for k, image_n in enumerate(images):\n",
        "    image_handles[k].set_array(images[k])\n",
        "  return image_handles\n",
        "plt.close()\n",
        "anim = animation.FuncAnimation(fig, movieFrame, frames=img_with_spots.shape[0], interval=50, blit=True)\n",
        "from IPython.display import HTML\n",
        "HTML(anim.to_html5_video())"
      ]
    },
    {
      "cell_type": "markdown",
      "metadata": {
        "id": "kLFDBbSug_qe"
      },
      "source": [
        "# More complex scenarios"
      ]
    },
    {
      "cell_type": "markdown",
      "metadata": {
        "id": "hHth5fSujkzL"
      },
      "source": [
        "![alt text](FigsA/Module_1_3/Slide7.png)"
      ]
    },
    {
      "cell_type": "markdown",
      "metadata": {
        "id": "lDe5MLQP3tZO"
      },
      "source": [
        "## Running a simulation with 20% of Background noise."
      ]
    },
    {
      "cell_type": "code",
      "execution_count": null,
      "metadata": {
        "id": "pr9ZJX5UhHC3"
      },
      "outputs": [],
      "source": [
        "# Running the 2D random walk simulator\n",
        "img_size_ns =[100, 100]\n",
        "num_time_points = 10\n",
        "diffusion_coeffient = 0.5\n",
        "percentage_background_noise = 0.2   ### adding 20% BG noise\n",
        "number_spots = 30\n",
        "img_with_spots_noisy = brownian_movement_simulator(img_size =img_size_ns,num_time_points=num_time_points, number_spots=number_spots, diffusion_coeffient =diffusion_coeffient, percentage_background_noise= percentage_background_noise)"
      ]
    },
    {
      "cell_type": "code",
      "execution_count": null,
      "metadata": {
        "id": "OXMKqt2Ajtpr"
      },
      "outputs": [],
      "source": [
        "# Running the particle detector using a noisy image\n",
        "list_center_mass = particle_detector(img_with_spots_noisy,threshold=250)  # Test different values for the threshold"
      ]
    },
    {
      "cell_type": "code",
      "execution_count": null,
      "metadata": {
        "id": "2_tFvPWkjzGp"
      },
      "outputs": [],
      "source": [
        "# Plotting\n",
        "selected_time_point =0\n",
        "fig, ax = plt.subplots(1,2, figsize=(15, 5))\n",
        "ax[0].imshow(img_with_spots_noisy[selected_time_point,:,:,0], cmap=plt.cm.gray, alpha=0.5)\n",
        "ax[0].set_title('Simulated spots')\n",
        "ax[1].imshow(img_with_spots_noisy[selected_time_point,:,:,0], cmap=plt.cm.gray, alpha=0.5)\n",
        "for i in range(0,len(list_center_mass[selected_time_point])):\n",
        "  ax[1].plot(list_center_mass[selected_time_point][i][0], list_center_mass[selected_time_point][i][1], color='r',marker='*')\n",
        "ax[1].set_title('Binary image with pixels above treshold')\n",
        "plt.show()"
      ]
    },
    {
      "cell_type": "markdown",
      "metadata": {
        "id": "vQY6j_D94Ajj"
      },
      "source": [
        "### Reducing the noise in the image by using filters."
      ]
    },
    {
      "cell_type": "code",
      "execution_count": null,
      "metadata": {
        "id": "LvS4H45clE1U"
      },
      "outputs": [],
      "source": [
        "# Using a filter to remove noise\n",
        "from scipy.ndimage import gaussian_filter\n",
        "from skimage.filters import difference_of_gaussians\n",
        "\n",
        "# img_with_spots_gaussian_filter = img_with_spots_noisy.copy() # making a copy of our img\n",
        "\n",
        "# Applying a Gaussian filter\n",
        "# img_with_spots_filter = gaussian_filter(img_with_spots_gaussian_filter, sigma=2)\n",
        "\n",
        "# Applying a Differences of Gaussians Filter\n",
        "img_with_spots_filter = difference_of_gaussians(img_with_spots_noisy, low_sigma=2, high_sigma=4)"
      ]
    },
    {
      "cell_type": "code",
      "execution_count": null,
      "metadata": {},
      "outputs": [],
      "source": [
        "# Make pair of figures. the first is the filtered image, and the second is a histogram of the pixel values.\n",
        "fig, ax = plt.subplots(1,2, figsize=(15, 5))\n",
        "ax[0].imshow(img_with_spots_filter[selected_time_point,:,:,0], cmap=plt.cm.gray)\n",
        "ax[0].set_title('Filtered image')\n",
        "ax[1].hist(img_with_spots_filter[selected_time_point,:,:,0].flatten(), bins=100, color='k')\n",
        "ax[1].set_title('Histogram of pixel values')\n",
        "plt.show()\n",
        "\n"
      ]
    },
    {
      "cell_type": "code",
      "execution_count": null,
      "metadata": {
        "id": "Yiy3Q2YWlGPu"
      },
      "outputs": [],
      "source": [
        "# Running the particle detector using the image after applying the filter\n",
        "# list_center_mass_removed_noise = particle_detector(img_with_spots_filter,threshold=100)\n",
        "list_center_mass_removed_noise = particle_detector(img_with_spots_filter,threshold=0.18)"
      ]
    },
    {
      "cell_type": "code",
      "execution_count": null,
      "metadata": {
        "id": "qYaBgqq_lXSK"
      },
      "outputs": [],
      "source": [
        "# Plotting\n",
        "selected_time_point =0\n",
        "fig, ax = plt.subplots(1,2, figsize=(15, 5))\n",
        "ax[0].imshow(img_with_spots_filter[selected_time_point,:,:,0], cmap=plt.cm.gray)\n",
        "ax[0].set_title('Simulated spots')\n",
        "ax[1].imshow(img_with_spots_filter[selected_time_point,:,:,0], cmap=plt.cm.gray)\n",
        "for i in range(0,len(list_center_mass_removed_noise[selected_time_point])):\n",
        "  ax[1].plot(list_center_mass_removed_noise[selected_time_point][i][1], list_center_mass_removed_noise[selected_time_point][i][0], color='r',marker='*')\n",
        "ax[1].set_title('Binary image with pixels above treshold')\n",
        "plt.show()"
      ]
    },
    {
      "cell_type": "markdown",
      "metadata": {
        "id": "d06raoYZvXLE"
      },
      "source": [
        "# Example: Ribosomal frameshifting. Two mRNAs interact for some seconds."
      ]
    },
    {
      "cell_type": "code",
      "execution_count": null,
      "metadata": {
        "id": "9rbTMEd4xo7K"
      },
      "outputs": [],
      "source": [
        "HTML(\"\"\"<video width=\"560\" alt=\"test\" controls> <source src=\"https://github.com/MunskyGroup/uqbio2021/raw/main/module_1/tracking/bursting.mp4\" type=\"video/mp4\"></video>\"\"\")"
      ]
    },
    {
      "cell_type": "markdown",
      "metadata": {
        "id": "QnOMCDcdq7u-"
      },
      "source": [
        "# Using Libraries"
      ]
    },
    {
      "cell_type": "markdown",
      "metadata": {
        "id": "jpobLDWvrLkO"
      },
      "source": [
        "![alt text](FigsA/Module_1_3/Slide9.png)"
      ]
    },
    {
      "cell_type": "markdown",
      "metadata": {
        "id": "3B4N747drQHo"
      },
      "source": [
        "![alt text](FigsA/Module_1_3/Slide8.png)"
      ]
    },
    {
      "cell_type": "markdown",
      "metadata": {
        "id": "cMCQYTFsrRe4"
      },
      "source": [
        "![alt text](FigsA/Module_1_3/Slide10.png)"
      ]
    },
    {
      "cell_type": "markdown",
      "metadata": {
        "id": "bMjuwi3lrZgU"
      },
      "source": [
        "# Dowloading data"
      ]
    },
    {
      "cell_type": "code",
      "execution_count": null,
      "metadata": {
        "id": "1ZzzORu2rCt4"
      },
      "outputs": [],
      "source": [
        "# Downloading data\n",
        "urls = ['https://github.com/MunskyGroup/uqbio2021/raw/main/module_1/images/simulated_cell.tif'] # loading simulated data\n",
        "print('Downloading file...')\n",
        "urllib.request.urlretrieve(urls[0], './simulated_cell.tif')"
      ]
    },
    {
      "cell_type": "code",
      "execution_count": null,
      "metadata": {
        "id": "vVIjsSOgrC6p"
      },
      "outputs": [],
      "source": [
        "# Importing the video as a numpy array\n",
        "figName = './simulated_cell.tif'\n",
        "video = imread(figName)  #Numpy array [T,Y,X,C]\n",
        "# dimensions in the video\n",
        "number_timepoints, y_dim, x_dim, number_channels = video.shape[0], video.shape[1], video.shape[2], video.shape[3] # obtaining the dimensions size\n",
        "print(video.shape)"
      ]
    },
    {
      "cell_type": "code",
      "execution_count": null,
      "metadata": {
        "id": "Y_cfOGmirDMw"
      },
      "outputs": [],
      "source": [
        "plt.figure(figsize=(7,7))\n",
        "plt.imshow(video[0,:,:,1],cmap='gray')\n",
        "plt.show()"
      ]
    },
    {
      "cell_type": "code",
      "execution_count": null,
      "metadata": {
        "id": "GbiNBta3rDRL"
      },
      "outputs": [],
      "source": [
        "# Imoporting the library with the filter modules\n",
        "from scipy.ndimage import gaussian_filter\n",
        "from skimage.restoration import denoise_wavelet, estimate_sigma\n",
        "from skimage import img_as_float\n",
        "from skimage.filters import difference_of_gaussians\n",
        "\n",
        "img_copy = video.copy() # making a copy of our img\n",
        "img_section = img_copy[0,:,:,1] # selecting a timepoint and color channel\n",
        "\n",
        "img2 = img_as_float(img_section)\n",
        "\n",
        "# Applying the filter\n",
        "img_gaussian_filter_simga_1 = difference_of_gaussians(img_section, 0.2, 50)\n",
        "img_gaussian_filter_simga_10 = gaussian_filter(img_section, sigma=10)\n",
        "sigma_est=0.0001\n",
        "im_wavelet = denoise_wavelet(img2, rescale_sigma=True,method='BayesShrink', mode='soft', sigma = sigma_est)  #\n",
        "\n",
        "sigma_est = estimate_sigma(im_wavelet, average_sigmas=True)\n",
        "\n",
        "# Side-by-side comparizon\n",
        "fig, ax = plt.subplots(1,3, figsize=(30, 10))\n",
        "ax[0].imshow(img_section,cmap='gray')\n",
        "ax[0].set(title='Original')\n",
        "\n",
        "# noise reduction\n",
        "ax[1].imshow(img_gaussian_filter_simga_1,cmap='gray')\n",
        "ax[1].set(title='Gaussian Filter $\\sigma$ =1 Noise reduction')\n",
        "\n",
        "# Blurring\n",
        "ax[2].imshow(im_wavelet,cmap='gray')\n",
        "ax[2].set(title='denoise_wavelet')\n",
        "plt.show()"
      ]
    },
    {
      "cell_type": "code",
      "execution_count": null,
      "metadata": {
        "cellView": "form",
        "id": "W1EdAHKQrDV_"
      },
      "outputs": [],
      "source": [
        "# Plotting Video\n",
        "from matplotlib import animation\n",
        "from IPython.display import HTML\n",
        "def make_movie(image_tensor, cmaps = ['Reds_r','Greens_r','Blues_r'], channels = True):\n",
        "  '''\n",
        "  returns an ipython.html obj to display an image tensor\n",
        "  '''\n",
        "  if channels:  # if channels = True we will make a 3 color / 3 plot movie\n",
        "    fig,axes = plt.subplots(1,2,figsize=(20,7),tight_layout=True,)\n",
        "  else: # otherwise just one subplot is needed\n",
        "    fig,axes = plt.subplots(1,1,figsize=(20,7),tight_layout=True,) #tight layout sets the axis's apart\n",
        "  #fig.subplots_adjust(left=0, bottom=0, right=1, top=1, wspace=None, hspace=None)\n",
        "  if channels: #if channels set up inital images here\n",
        "    im1 = axes[0].imshow(image_tensor[0,:,:,0], cmap=cmaps[0])  #get blank axes.image objects to maniuplate later\n",
        "    im2 = axes[1].imshow(image_tensor[0,:,:,1], cmap=cmaps[1])\n",
        "    #im3 = axes[2].imshow(image_tensor[0,:,:,2], cmap=cmaps[2])\n",
        "    for k in range(2):\n",
        "      axes[k].set_title('Channel %i'%k)\n",
        "  else:\n",
        "    im1 = axes.imshow(image_tensor[0,:,:,:], cmap=cmaps[0]) #if merge just make one\n",
        "    axes.set_title('Merge')\n",
        "  plt.close()\n",
        "\n",
        "  #here set up the function that is called by FuncAnimation, it returns the artist objects and updates the frame by i\n",
        "  def movieFrame(i):\n",
        "    ## Extract all the image channels\n",
        "    #Define  frames\n",
        "    if channels:  #get the channels if 3 color\n",
        "      channel_1_img = image_tensor[i,:,:,0]\n",
        "      channel_2_img = image_tensor[i,:,:,1]\n",
        "      #channel_3_img = image_tensor[i,:,:,2]\n",
        "      images = [channel_1_img, channel_2_img]  # concatenate channels\n",
        "      axes_handles = [im1,im2]  #Axes handles from the imshow\n",
        "    else:\n",
        "      channel_img = image_tensor[i,:,:,:]\n",
        "      images = [channel_img,]  # concatenate channels\n",
        "      axes_handles = [im1,]  #Axes handles from the imshow\n",
        "\n",
        "    #update the axes imshow objects with the new data per k channels\n",
        "    for k,image_n in enumerate(images):  #for loop that returns an object and an index\n",
        "      axes_handles[k].set_array(images[k])  #\n",
        "    return axes_handles  #return the object\n",
        "\n",
        "  #here call the animation function from matplotlib and then return the final HTML video object to the user\n",
        "  anim = animation.FuncAnimation(fig, movieFrame, frames=image_tensor.shape[0], interval=100, blit=True)\n",
        "  return HTML(anim.to_html5_video())"
      ]
    },
    {
      "cell_type": "code",
      "execution_count": null,
      "metadata": {
        "id": "U3IHovjqrDbS"
      },
      "outputs": [],
      "source": [
        "make_movie(video)"
      ]
    },
    {
      "cell_type": "markdown",
      "metadata": {
        "id": "y42CEtgurul_"
      },
      "source": [
        "## Cell segmentation"
      ]
    },
    {
      "cell_type": "code",
      "execution_count": null,
      "metadata": {
        "id": "d32X2CA7rqfh"
      },
      "outputs": [],
      "source": [
        "# RUN CELLPOSE\n",
        "imgs_2D = video[0,:,:,0] # [T,Y,X,C]\n",
        "use_GPU = False\n",
        "# DEFINE CELLPOSE MODEL\n",
        "model = models.Cellpose(gpu=use_GPU, model_type='cyto') # model_type='cyto' or model_type='nuclei'\n",
        "\n",
        "# Running the models\n",
        "masks, flows, styles, diams = model.eval(imgs_2D, diameter=200, flow_threshold=None, channels=[0,0])"
      ]
    },
    {
      "cell_type": "code",
      "execution_count": null,
      "metadata": {
        "id": "0NA0RsyOrqly"
      },
      "outputs": [],
      "source": [
        "num_masks = np.amax(masks)\n",
        "if num_masks >1:\n",
        "  masks_nuc_area = [np.count_nonzero(masks==j) for j in range(1, num_masks+1)]\n",
        "  largest_mask = np.argmax(masks_nuc_area) +1\n",
        "  selected_masks =  np.where(masks == largest_mask, 1, 0)"
      ]
    },
    {
      "cell_type": "code",
      "execution_count": null,
      "metadata": {
        "id": "eDornQAerqre"
      },
      "outputs": [],
      "source": [
        "plt.imshow(masks)"
      ]
    },
    {
      "cell_type": "code",
      "execution_count": null,
      "metadata": {
        "id": "22zLdpdMrqwp"
      },
      "outputs": [],
      "source": [
        "plt.imshow(selected_masks)"
      ]
    },
    {
      "cell_type": "markdown",
      "metadata": {
        "id": "WWVIfvjRuj_p"
      },
      "source": [
        "# Particle tracking using Trackpy"
      ]
    },
    {
      "cell_type": "code",
      "execution_count": null,
      "metadata": {
        "id": "K2pm9j2Qrq15"
      },
      "outputs": [],
      "source": [
        "# Plotting just the masked image.\n",
        "plt.figure(figsize=(5,5))\n",
        "plt.imshow(video[0,:,:,0]*selected_masks,cmap='gray')\n",
        "plt.show()"
      ]
    },
    {
      "cell_type": "markdown",
      "metadata": {
        "id": "9gU7wK2kuwoB"
      },
      "source": [
        "The particle tracking is performed using [trackpy](http://http://soft-matter.github.io/trackpy/v0.5.0/)\n",
        "The library documentation can be accessed in the following [link](https://buildmedia.readthedocs.org/media/pdf/trackpy/v0.2.3/trackpy.pdf)."
      ]
    },
    {
      "cell_type": "markdown",
      "metadata": {
        "id": "ZiQ6trQXu0yf"
      },
      "source": [
        "## Manual selection. (Initial step)"
      ]
    },
    {
      "cell_type": "markdown",
      "metadata": {
        "id": "2Zqf12hlu4AR"
      },
      "source": [
        "### Visualizing the distribution for the particles' intensity\n"
      ]
    },
    {
      "cell_type": "code",
      "execution_count": null,
      "metadata": {
        "id": "iqs2LGMHrq8G"
      },
      "outputs": [],
      "source": [
        "# This section generates an histogram with the intensity of the detected particles in the video.\n",
        "\n",
        "particle_size = 7 # according to the documentation must be an odd number 3,5,7,9 etc.\n",
        "minimal_intensity_for_selection = 0 # minimal intensity to detect a particle.\n",
        "\n",
        "# \"f\" is a pandas data freame that contains the infomation about the detected spots\n",
        "f = tp.locate(video[10,:,:,0], particle_size, minmass=minimal_intensity_for_selection)\n",
        "\n",
        "plt.rcParams[\"figure.figsize\"] = (5,5)\n",
        "fig, ax = plt.subplots()\n",
        "ax.hist(f['mass'], bins=100, color = \"orangered\", ec=\"orangered\")\n",
        "ax.set(xlabel='mass', ylabel='count');\n",
        "ax.set_ylim([0,200])\n",
        "plt.show()"
      ]
    },
    {
      "cell_type": "code",
      "execution_count": null,
      "metadata": {
        "id": "oAiSAEi8knes"
      },
      "outputs": [],
      "source": [
        "help(tp.locate)"
      ]
    },
    {
      "cell_type": "markdown",
      "metadata": {
        "id": "bmDVP1bcu9_7"
      },
      "source": [
        "## Select an intensity threshold value and particle size"
      ]
    },
    {
      "cell_type": "markdown",
      "metadata": {
        "id": "nIcIPUIuvBNy"
      },
      "source": [
        "In the following widget, the user is asked to manually input the particle size and the Intensity threshold, these numbers will be used for during the rest of the code to calculate intensities. Notice that tracking is only performed on channel 0."
      ]
    },
    {
      "cell_type": "code",
      "execution_count": null,
      "metadata": {
        "id": "cO8sJrUcux4F"
      },
      "outputs": [],
      "source": [
        "# To start visualization move the time slider.\n",
        "plt.rcParams[\"figure.figsize\"] = (10,10) # if movie is too big, change size to (7,7)\n",
        "def figure_viewer_tr(time,mass_text, drop_size):\n",
        "    ch = 0\n",
        "    f = tp.locate(video[time,:,:,ch],drop_size, minmass=mass_text,maxsize=7,percentile=60) # \"f\" is a pandas data freame that contains the infomation about the detected spots\n",
        "    tp.annotate(f,video[time,:,:,ch]);  # tp.anotate is a trackpy function that displays the image with the detected spots\n",
        "\n",
        "values_size=[3,5,7,9] # Notice value must be an odd number.\n",
        "interactive_plot_tr = interactive(figure_viewer_tr,mass_text = widgets.IntText(value=500,min=10,description='min Intensity'),drop_size = widgets.Dropdown(options=values_size,value=7,description='Particle Size'),time = widgets.IntSlider(min=0,max=video.shape[0]-1,step=1,value=0,description='Time'))\n",
        "controls = HBox(interactive_plot_tr.children[:-1], layout = Layout(flex_flow='row wrap'))\n",
        "output = interactive_plot_tr.children[-1]\n",
        "display(VBox([controls, output]))"
      ]
    },
    {
      "cell_type": "markdown",
      "metadata": {
        "id": "jDOtgT35vHii"
      },
      "source": [
        "### Saving the threshold parameters that will be used to define the spot selection criteria"
      ]
    },
    {
      "cell_type": "code",
      "execution_count": null,
      "metadata": {
        "id": "CoarfbEbuyCe"
      },
      "outputs": [],
      "source": [
        "# This section saves the parameters adjusted in the previous widget in two variables that will be use for the rest of the code.\n",
        "selected_intensity = interactive_plot_tr.kwargs_widgets[1].value\n",
        "selected_size = interactive_plot_tr.kwargs_widgets[2].value"
      ]
    },
    {
      "cell_type": "markdown",
      "metadata": {
        "id": "jvApwakWvNOO"
      },
      "source": [
        "## Detecting the spots in all frames"
      ]
    },
    {
      "cell_type": "code",
      "execution_count": null,
      "metadata": {},
      "outputs": [],
      "source": [
        "# Loop through each frame of the video, run TP to detect spots, and then create a single\n",
        "# data frame for all time points.\n",
        "ch = 0\n",
        "df_TrackPy = tp.locate(video[0,:,:,ch],selected_size, minmass=selected_intensity,maxsize=7,percentile=60) # \"f\" is a pandas data freame that contains the infomation about the detected spots\n",
        "df_TrackPy['frame'] = 0\n",
        "\n",
        "for iFrame in range(1,video.shape[0]):\n",
        "    f = tp.locate(video[iFrame,:,:,ch],selected_size, minmass=selected_intensity,maxsize=7,percentile=60) # \"f\" is a pandas data freame that contains the infomation about the detected spots\n",
        "    f['frame'] = iFrame\n",
        "    df_TrackPy = pd.concat([df_TrackPy,f])\n",
        "\n",
        "df_TrackPy"
      ]
    },
    {
      "cell_type": "markdown",
      "metadata": {
        "id": "Cl2cAV77PzYr"
      },
      "source": [
        "## Removing particles outside the mask"
      ]
    },
    {
      "cell_type": "code",
      "execution_count": null,
      "metadata": {
        "id": "lKtiZfRFPz3g"
      },
      "outputs": [],
      "source": [
        "# Create a function that extracts the y and x coordinates from the dataframe and\n",
        "# return an exteneded data frame that includes a boolean true if the spot is in \n",
        "# the mask and false otherwise.\n",
        "def spots_in_mask(f,mask):\n",
        "    # extracting the contours in the image\n",
        "    coords = np.array([f.y, f.x]).T # These are the points detected by trackpy\n",
        "    coords_int = np.round(coords).astype(int)  # or np.floor, depends\n",
        "    values_at_coords = mask[tuple(coords_int.T)] # If 1 the value is in the mask\n",
        "    f['In Mask']=values_at_coords # Check if pts are on/in polygon mask\n",
        "    return f"
      ]
    },
    {
      "cell_type": "code",
      "execution_count": null,
      "metadata": {
        "id": "ZE2XDPMdP9xS"
      },
      "outputs": [],
      "source": [
        "# Remove spots that are not contained in the cell masks\n",
        "df_masked = spots_in_mask(df_TrackPy,selected_masks)\n",
        "dataframe_particles_in_mask = df_masked[df_masked['In Mask']==True]\n",
        "dataframe_particles_in_mask"
      ]
    },
    {
      "cell_type": "markdown",
      "metadata": {
        "id": "2UGJXZMLvR4J"
      },
      "source": [
        "## Linking all detected spots accross all frames\n",
        "\n",
        "---\n",
        "\n"
      ]
    },
    {
      "cell_type": "code",
      "execution_count": null,
      "metadata": {
        "id": "_njnNDiiuySF"
      },
      "outputs": [],
      "source": [
        "# tp.link_df is a trackpy function that links spots detected in multiple frames, this generates the spots trajectories in time.\n",
        "df_linked_particles = tp.link_df(dataframe_particles_in_mask,5, memory=2) # tp.link_df(data_frame, max_distance_particle_moves, max_time_particle_vanishes)."
      ]
    },
    {
      "cell_type": "markdown",
      "metadata": {
        "id": "aQEKMOfOvZfD"
      },
      "source": [
        "## Eliminating spurious trajectories."
      ]
    },
    {
      "cell_type": "code",
      "execution_count": null,
      "metadata": {
        "id": "DBKooTs-rDgA"
      },
      "outputs": [],
      "source": [
        "#trackpy.filtering.filter_stubs(tracks, threshold=100)\n",
        "df_linked_particles_filtered = tp.filter_stubs(df_linked_particles, 10)  # selecting trajectories that appear in at least 10 frames.\n",
        "# Compare the number of particles in the unfiltered and filtered data.\n",
        "print('Before:', df_linked_particles['particle'].nunique())\n",
        "print('After:', df_linked_particles_filtered['particle'].nunique())"
      ]
    },
    {
      "cell_type": "markdown",
      "metadata": {
        "id": "AbJka7J2veOm"
      },
      "source": [
        "# Particle trajectories are stored in a Pandas data frame"
      ]
    },
    {
      "cell_type": "markdown",
      "metadata": {
        "id": "FL2HyT3Tvjvp"
      },
      "source": [
        "[Pandas data Library ](https://pandas.pydata.org) and a [link](https://pandas.pydata.org/docs/user_guide/10min.html) with a 10min guide to learn pandas."
      ]
    },
    {
      "cell_type": "markdown",
      "metadata": {
        "id": "dHDsozEvvqQY"
      },
      "source": [
        "## Extracting information from a Pandas data frame using conditionals"
      ]
    },
    {
      "cell_type": "code",
      "execution_count": null,
      "metadata": {
        "id": "E46q3zL5AA1K"
      },
      "outputs": [],
      "source": [
        "# Pandas data frame\n",
        "df_linked_particles_filtered\n"
      ]
    },
    {
      "cell_type": "code",
      "execution_count": null,
      "metadata": {
        "id": "d-LUrCIJKuNl"
      },
      "outputs": [],
      "source": [
        "# For simplicity, I  will create a new df with a short name\n",
        "dfp =  df_linked_particles_filtered"
      ]
    },
    {
      "cell_type": "code",
      "execution_count": null,
      "metadata": {
        "id": "T14GklJRABkw"
      },
      "outputs": [],
      "source": [
        "# Showing information for a selected_particle\n",
        "selected_particle = 3\n",
        "dfp.loc[dfp['particle']==selected_particle ]"
      ]
    },
    {
      "cell_type": "code",
      "execution_count": null,
      "metadata": {
        "id": "8qn7TnKnAGDe"
      },
      "outputs": [],
      "source": [
        "# Showing information for a selected_frame\n",
        "selected_frame = 0\n",
        "dfp.loc[dfp['frame']==selected_frame]"
      ]
    },
    {
      "cell_type": "code",
      "execution_count": null,
      "metadata": {
        "id": "KNOnaV6gAIok"
      },
      "outputs": [],
      "source": [
        "# Extracting the intensity values for selected_particle\n",
        "selected_particle = 3\n",
        "dfp.loc[dfp['particle']==selected_particle].mass.values"
      ]
    },
    {
      "cell_type": "code",
      "execution_count": null,
      "metadata": {
        "id": "PPvKbeqJAK7B"
      },
      "outputs": [],
      "source": [
        "# Extracting the intensity values for particles with intensity higher than a threshold and in frame 0\n",
        "dfp.loc[(dfp['mass']>=2000) & (dfp['frame']==0)  ]"
      ]
    },
    {
      "cell_type": "markdown",
      "metadata": {
        "id": "NgvrM0aYAPM0"
      },
      "source": [
        "## Exporting tracks to CSV."
      ]
    },
    {
      "cell_type": "code",
      "execution_count": null,
      "metadata": {
        "id": "2_O_B6GhAQjl"
      },
      "outputs": [],
      "source": [
        "# Optional section that saves the particles trajectories and intensities as a CSV file\n",
        "dfp.to_csv(r'tracking_particles.csv', index = False)"
      ]
    },
    {
      "cell_type": "markdown",
      "metadata": {
        "id": "ACYNl3e5AVg0"
      },
      "source": [
        "#Plotting trajectories in x-y."
      ]
    },
    {
      "cell_type": "code",
      "execution_count": null,
      "metadata": {
        "id": "KT2F-03cAWmp"
      },
      "outputs": [],
      "source": [
        "# Plotting\n",
        "plt.figure(figsize=(10,10))\n",
        "for i in range(0,dfp['particle'].nunique() ):\n",
        "  x_val = dfp.loc[dfp['particle']==i ].x.values[:]\n",
        "  y_val = dfp.loc[dfp['particle']==i ].y.values[:]\n",
        "  plt.plot(x_val,y_val, '-',linewidth = 3 )\n",
        "plt.xlabel('x-axis')\n",
        "plt.ylabel('y-axis')\n",
        "plt.title('Particle movement 2D')\n",
        "plt.show()"
      ]
    },
    {
      "cell_type": "code",
      "execution_count": null,
      "metadata": {},
      "outputs": [],
      "source": [
        "# Make a movie of the original, but now add squares over the tracked particles.\n",
        "\n",
        "# Plotting spots as a video\n",
        "\n",
        "fig, ax = plt.subplots(figsize=(7,7))\n",
        "\n",
        "def movieFrame(i):\n",
        "  ax.clear()\n",
        "  ax.imshow(video[i,:,:,0],cmap= 'gray')\n",
        "\n",
        "  for iParticle in range(0,dfp['particle'].nunique() ):\n",
        "      x_val = dfp.loc[(dfp['particle']==iParticle) & (dfp['frame']<=i) ].x.values\n",
        "      y_val = dfp.loc[(dfp['particle']==iParticle) & (dfp['frame']<=i) ].y.values\n",
        "      if len(x_val)>=1:\n",
        "        # Add a circle over the detected spot\n",
        "        ax.plot(x_val[-1],y_val[-1], 'o', linewidth = 1, markersize=8, color='y', alpha=0.25)\n",
        "        \n",
        "        # Add a line to show the trajectory of the spot.\n",
        "        ax.plot(x_val,y_val, linewidth = 2, alpha=0.75)\n",
        "\n",
        "  return [fig]\n",
        "\n",
        "plt.close()\n",
        "anim = animation.FuncAnimation(fig, movieFrame, frames=video.shape[0], interval=50, blit=True)\n",
        "from IPython.display import HTML\n",
        "HTML(anim.to_html5_video())"
      ]
    },
    {
      "cell_type": "code",
      "execution_count": null,
      "metadata": {},
      "outputs": [],
      "source": [
        "# Make a movie of the original, but now add squares over the tracked particles.\n",
        "# Also, now we add a zoom in to show the behavior of a single particle over time.\n",
        "\n",
        "def movieViewer(spot_number = 0):\n",
        "  fig, ax = plt.subplots(1,2, figsize=(14,7))\n",
        "  def movieFrame(i):\n",
        "    ax[0].clear(); ax[1].clear()\n",
        "    x_val = dfp.loc[(dfp['particle']==spot_number) & (dfp['frame']==i) ].x.values\n",
        "    y_val = dfp.loc[(dfp['particle']==spot_number) & (dfp['frame']==i) ].y.values   \n",
        "    \n",
        "    ax[0].imshow(video[i,:,:,0],cmap= 'gray')\n",
        "    ax[0].plot(x_val,y_val, 'o', linewidth = 1, markersize=8, color='y', alpha=0.25)\n",
        "\n",
        "    if len(x_val)>0:    \n",
        "      ylim = [int(x_val[0]-7), int(x_val[0]+8)]\n",
        "      xlim = [int(y_val[0]-7), int(y_val[0]+8)]\n",
        "      ax[1].imshow(video[i,xlim[0]:xlim[1],ylim[0]:ylim[1],1],cmap= 'Spectral_r')\n",
        "    return [fig]\n",
        "\n",
        "  plt.close()\n",
        "  anim = animation.FuncAnimation(fig, movieFrame, frames=video.shape[0], interval=50, blit=True)\n",
        "  return anim\n",
        "\n",
        "anim = movieViewer(spot_number=3)\n",
        "HTML(anim.to_html5_video())\n",
        "\n",
        "\n",
        "# interactive_plot = interactive(movieViewer,spot_number = widgets.IntSlider(min=0,max=dfp['particle'].nunique(),value=0,description='Particle Number'),continuous_update=False)\n",
        "# controls = HBox(interactive_plot.children[:-1], layout = Layout(flex_flow='row wrap'))\n",
        "# output = interactive_plot.children[-1]\n",
        "# display(VBox([controls, output]))"
      ]
    },
    {
      "cell_type": "markdown",
      "metadata": {
        "id": "vbUmLKz6Aa2h"
      },
      "source": [
        "\n",
        "## Plotting trajectories versus intensity using trackpy"
      ]
    },
    {
      "cell_type": "markdown",
      "metadata": {
        "id": "CUnDuer4Aexe"
      },
      "source": [
        "Notice that the particle number is not consecutive, for that reason the indexing is as follows:\n",
        "dfp['particle'].unique()  \n",
        "\n",
        "Where dfp.unique() is a method that return the number of unique values in the dfp."
      ]
    },
    {
      "cell_type": "code",
      "execution_count": null,
      "metadata": {
        "id": "cRcFQSVSAb2h"
      },
      "outputs": [],
      "source": [
        "# Defining the number of detected spots.\n",
        "n_particles = dfp['particle'].nunique()\n",
        "\n",
        "# Plotting\n",
        "plt.figure(figsize=(20,5))\n",
        "\n",
        "# plotting intensities in au\n",
        "for id in range(0,n_particles):\n",
        "    plt.plot(dfp.loc[dfp['particle']==dfp['particle'].unique()[id]].frame, dfp.loc[dfp['particle']==dfp['particle'].unique()[id]].mass )\n",
        "plt.xlabel('Time (sec)')\n",
        "plt.ylabel('Intensity a.u.')\n",
        "plt.title('Intensity vs Time')\n",
        "plt.show()"
      ]
    },
    {
      "cell_type": "markdown",
      "metadata": {
        "id": "_OaUyHTtfPGS"
      },
      "source": [
        "# References"
      ]
    },
    {
      "cell_type": "markdown",
      "metadata": {
        "id": "aBNAcZnsflyT"
      },
      "source": [
        "* Video source: Lyon, K., Aguilera, L.U., Morisaki, T., Munsky, B. and Stasevich, T.J., 2019. Live-cell single RNA imaging reveals bursts of translational frameshifting. Molecular cell, 75(1), pp.172-183. https://www.sciencedirect.com/science/article/pii/S1097276519303557\n",
        "\n",
        "* Image source: MacKintosh, F.C., 2012. Active diffusion: the erratic dance of chromosomal loci. Proceedings of the National Academy of Sciences, 109(19), pp.7138-7139. https://www.pnas.org/content/109/19/7138\n",
        "\n",
        "*   Code to generate a gaussian kernel matrix\n",
        "https://stackoverflow.com/questions/29731726/how-to-calculate-a-gaussian-kernel-matrix-efficiently-in-numpy\n",
        "\n",
        "*   Code to link coordenates\n",
        "https://stackoverflow.com/questions/52129486/python-find-the-nearest-neighbor-pairs-in-a-list-of-point-coordinates\n",
        "\n",
        "*   Code to compute mean square displacement\n",
        "https://stackoverflow.com/questions/26472653/computing-the-mean-square-displacement-of-a-2d-random-walk-in-python\n",
        "\n",
        "*   u-track (multiple-particle tracking)\n",
        "https://www.utsouthwestern.edu/labs/jaqaman/software/\n",
        "\n",
        "*  Wikipedia contributors, \"Mean squared displacement,\" Wikipedia, The Free Encyclopedia, https://en.wikipedia.org/w/index.php?title=Mean_squared_displacement&oldid=930410532 (accessed June 10, 2021).\n",
        "\n",
        "* Stringer, C., Wang, T., Michaelos, M. and Pachitariu, M., 2021.Cellpose: a generalist algorithm for cellular segmentation. Nature Methods, 18(1), pp.100-106. https://github.com/MouseLand/cellpose\n",
        "\n",
        "* Allan, Daniel B., Caswell, Thomas, Keim, Nathan C., van der Wel, Casper M., & Verweij, Ruben W. (2021, April 13). soft-matter/trackpy: Trackpy v0.5.0 (Version v0.5.0). Zenodo. http://doi.org/10.5281/zenodo.4682814"
      ]
    }
  ],
  "metadata": {
    "accelerator": "GPU",
    "colab": {
      "private_outputs": true,
      "provenance": []
    },
    "kernelspec": {
      "display_name": "BIOM480A5",
      "language": "python",
      "name": "python3"
    },
    "language_info": {
      "codemirror_mode": {
        "name": "ipython",
        "version": 3
      },
      "file_extension": ".py",
      "mimetype": "text/x-python",
      "name": "python",
      "nbconvert_exporter": "python",
      "pygments_lexer": "ipython3",
      "version": "3.11.11"
    }
  },
  "nbformat": 4,
  "nbformat_minor": 0
}
